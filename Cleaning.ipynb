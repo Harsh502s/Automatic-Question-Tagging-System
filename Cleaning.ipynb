{
 "cells": [
  {
   "cell_type": "markdown",
   "metadata": {},
   "source": [
    "# Importing the Data"
   ]
  },
  {
   "cell_type": "code",
   "execution_count": 34,
   "metadata": {},
   "outputs": [],
   "source": [
    "# Importing basic Libraries for EDA\n",
    "\n",
    "import pandas as pd\n",
    "import numpy as np\n",
    "import matplotlib.pyplot as plt\n",
    "import seaborn as sns\n",
    "import missingno as msno\n",
    "\n",
    "pd.set_option('display.max_columns', 10)"
   ]
  },
  {
   "cell_type": "code",
   "execution_count": 35,
   "metadata": {},
   "outputs": [],
   "source": [
    "df = pd.read_csv('Data/combined_df.csv')"
   ]
  },
  {
   "cell_type": "code",
   "execution_count": 36,
   "metadata": {},
   "outputs": [
    {
     "name": "stdout",
     "output_type": "stream",
     "text": [
      "<class 'pandas.core.frame.DataFrame'>\n",
      "RangeIndex: 51199 entries, 0 to 51198\n",
      "Data columns (total 4 columns):\n",
      " #   Column        Non-Null Count  Dtype \n",
      "---  ------        --------------  ----- \n",
      " 0   Head          51104 non-null  object\n",
      " 1   Body          50902 non-null  object\n",
      " 2   Tags          50888 non-null  object\n",
      " 3   First Answer  25555 non-null  object\n",
      "dtypes: object(4)\n",
      "memory usage: 1.6+ MB\n"
     ]
    }
   ],
   "source": [
    "df.info()"
   ]
  },
  {
   "cell_type": "code",
   "execution_count": 37,
   "metadata": {},
   "outputs": [
    {
     "data": {
      "text/html": [
       "<div>\n",
       "<style scoped>\n",
       "    .dataframe tbody tr th:only-of-type {\n",
       "        vertical-align: middle;\n",
       "    }\n",
       "\n",
       "    .dataframe tbody tr th {\n",
       "        vertical-align: top;\n",
       "    }\n",
       "\n",
       "    .dataframe thead th {\n",
       "        text-align: right;\n",
       "    }\n",
       "</style>\n",
       "<table border=\"1\" class=\"dataframe\">\n",
       "  <thead>\n",
       "    <tr style=\"text-align: right;\">\n",
       "      <th></th>\n",
       "      <th>Head</th>\n",
       "      <th>Body</th>\n",
       "      <th>Tags</th>\n",
       "      <th>First Answer</th>\n",
       "    </tr>\n",
       "  </thead>\n",
       "  <tbody>\n",
       "    <tr>\n",
       "      <th>count</th>\n",
       "      <td>51104</td>\n",
       "      <td>50902</td>\n",
       "      <td>50888</td>\n",
       "      <td>25555</td>\n",
       "    </tr>\n",
       "    <tr>\n",
       "      <th>unique</th>\n",
       "      <td>48978</td>\n",
       "      <td>48809</td>\n",
       "      <td>37079</td>\n",
       "      <td>24429</td>\n",
       "    </tr>\n",
       "    <tr>\n",
       "      <th>top</th>\n",
       "      <td>R's lmer cheat sheet</td>\n",
       "      <td>\\nThere's a lot of discussion going on on this...</td>\n",
       "      <td>['data-request']</td>\n",
       "      <td>What's the difference between (~1 +....) and (...</td>\n",
       "    </tr>\n",
       "    <tr>\n",
       "      <th>freq</th>\n",
       "      <td>5</td>\n",
       "      <td>5</td>\n",
       "      <td>357</td>\n",
       "      <td>5</td>\n",
       "    </tr>\n",
       "  </tbody>\n",
       "</table>\n",
       "</div>"
      ],
      "text/plain": [
       "                        Head  \\\n",
       "count                  51104   \n",
       "unique                 48978   \n",
       "top     R's lmer cheat sheet   \n",
       "freq                       5   \n",
       "\n",
       "                                                     Body              Tags  \\\n",
       "count                                               50902             50888   \n",
       "unique                                              48809             37079   \n",
       "top     \\nThere's a lot of discussion going on on this...  ['data-request']   \n",
       "freq                                                    5               357   \n",
       "\n",
       "                                             First Answer  \n",
       "count                                               25555  \n",
       "unique                                              24429  \n",
       "top     What's the difference between (~1 +....) and (...  \n",
       "freq                                                    5  "
      ]
     },
     "execution_count": 37,
     "metadata": {},
     "output_type": "execute_result"
    }
   ],
   "source": [
    "df.describe()"
   ]
  },
  {
   "cell_type": "code",
   "execution_count": 38,
   "metadata": {},
   "outputs": [
    {
     "data": {
      "text/plain": [
       "Head               95\n",
       "Body              297\n",
       "Tags              311\n",
       "First Answer    25644\n",
       "dtype: int64"
      ]
     },
     "execution_count": 38,
     "metadata": {},
     "output_type": "execute_result"
    }
   ],
   "source": [
    "df.isna().sum()"
   ]
  },
  {
   "cell_type": "markdown",
   "metadata": {},
   "source": [
    "* We can see that the are some missing values in the dataset. First Answer features have 50% missing values.\n",
    "* Without taking this column into consideration, we can see that there are 3 columns with missing values. now we will clean those features."
   ]
  },
  {
   "cell_type": "code",
   "execution_count": 39,
   "metadata": {},
   "outputs": [
    {
     "data": {
      "text/html": [
       "<div>\n",
       "<style scoped>\n",
       "    .dataframe tbody tr th:only-of-type {\n",
       "        vertical-align: middle;\n",
       "    }\n",
       "\n",
       "    .dataframe tbody tr th {\n",
       "        vertical-align: top;\n",
       "    }\n",
       "\n",
       "    .dataframe thead th {\n",
       "        text-align: right;\n",
       "    }\n",
       "</style>\n",
       "<table border=\"1\" class=\"dataframe\">\n",
       "  <thead>\n",
       "    <tr style=\"text-align: right;\">\n",
       "      <th></th>\n",
       "      <th>Head</th>\n",
       "      <th>Body</th>\n",
       "      <th>Tags</th>\n",
       "    </tr>\n",
       "  </thead>\n",
       "  <tbody>\n",
       "    <tr>\n",
       "      <th>0</th>\n",
       "      <td>Brain Segmentation To 3D Model</td>\n",
       "      <td>\\r\\nMy goal is to take a dataset of Brain Tumo...</td>\n",
       "      <td>['computer-vision', 'python']</td>\n",
       "    </tr>\n",
       "    <tr>\n",
       "      <th>1</th>\n",
       "      <td>NaN</td>\n",
       "      <td>NaN</td>\n",
       "      <td>NaN</td>\n",
       "    </tr>\n",
       "    <tr>\n",
       "      <th>2</th>\n",
       "      <td>NaN</td>\n",
       "      <td>NaN</td>\n",
       "      <td>NaN</td>\n",
       "    </tr>\n",
       "    <tr>\n",
       "      <th>3</th>\n",
       "      <td>Active Learning regression with Random Forest</td>\n",
       "      <td>\\r\\nI have a dataset of about 8k points and I ...</td>\n",
       "      <td>['machine-learning', 'regression', 'uncertaint...</td>\n",
       "    </tr>\n",
       "    <tr>\n",
       "      <th>4</th>\n",
       "      <td>Comparing Reinforcement Learning models</td>\n",
       "      <td>\\r\\nI am currently completing my thesis on opt...</td>\n",
       "      <td>['reinforcement-learning', 'policy-gradients',...</td>\n",
       "    </tr>\n",
       "    <tr>\n",
       "      <th>...</th>\n",
       "      <td>...</td>\n",
       "      <td>...</td>\n",
       "      <td>...</td>\n",
       "    </tr>\n",
       "    <tr>\n",
       "      <th>51194</th>\n",
       "      <td>Where to get older digital OCR'd data sets of ...</td>\n",
       "      <td>\\nI am trying to locate older unsummarized US ...</td>\n",
       "      <td>['data-request', 'usa', 'us-census']</td>\n",
       "    </tr>\n",
       "    <tr>\n",
       "      <th>51195</th>\n",
       "      <td>Orthophoto Rwanda Free Download?</td>\n",
       "      <td>\\nI'm looking for Image datas for East Africa....</td>\n",
       "      <td>['data-request', 'images', 'aerial-photography...</td>\n",
       "    </tr>\n",
       "    <tr>\n",
       "      <th>51196</th>\n",
       "      <td>finding online finance datasets</td>\n",
       "      <td>\\nI am searching for finance datasets that has...</td>\n",
       "      <td>['data-request', 'finance']</td>\n",
       "    </tr>\n",
       "    <tr>\n",
       "      <th>51197</th>\n",
       "      <td>HealthCare Finder API Links Broken?</td>\n",
       "      <td>\\nIt seems that the HealthCare Finder API sche...</td>\n",
       "      <td>['healthcare-finder-api']</td>\n",
       "    </tr>\n",
       "    <tr>\n",
       "      <th>51198</th>\n",
       "      <td>HIOS Plan Year 2016 XSD Schema</td>\n",
       "      <td>\\nCan someone provide a link to the new (plan ...</td>\n",
       "      <td>['data-format', 'healthcare-finder-api']</td>\n",
       "    </tr>\n",
       "  </tbody>\n",
       "</table>\n",
       "<p>51199 rows × 3 columns</p>\n",
       "</div>"
      ],
      "text/plain": [
       "                                                    Head  \\\n",
       "0                         Brain Segmentation To 3D Model   \n",
       "1                                                    NaN   \n",
       "2                                                    NaN   \n",
       "3          Active Learning regression with Random Forest   \n",
       "4                Comparing Reinforcement Learning models   \n",
       "...                                                  ...   \n",
       "51194  Where to get older digital OCR'd data sets of ...   \n",
       "51195                   Orthophoto Rwanda Free Download?   \n",
       "51196                    finding online finance datasets   \n",
       "51197                HealthCare Finder API Links Broken?   \n",
       "51198                     HIOS Plan Year 2016 XSD Schema   \n",
       "\n",
       "                                                    Body  \\\n",
       "0      \\r\\nMy goal is to take a dataset of Brain Tumo...   \n",
       "1                                                    NaN   \n",
       "2                                                    NaN   \n",
       "3      \\r\\nI have a dataset of about 8k points and I ...   \n",
       "4      \\r\\nI am currently completing my thesis on opt...   \n",
       "...                                                  ...   \n",
       "51194  \\nI am trying to locate older unsummarized US ...   \n",
       "51195  \\nI'm looking for Image datas for East Africa....   \n",
       "51196  \\nI am searching for finance datasets that has...   \n",
       "51197  \\nIt seems that the HealthCare Finder API sche...   \n",
       "51198  \\nCan someone provide a link to the new (plan ...   \n",
       "\n",
       "                                                    Tags  \n",
       "0                          ['computer-vision', 'python']  \n",
       "1                                                    NaN  \n",
       "2                                                    NaN  \n",
       "3      ['machine-learning', 'regression', 'uncertaint...  \n",
       "4      ['reinforcement-learning', 'policy-gradients',...  \n",
       "...                                                  ...  \n",
       "51194               ['data-request', 'usa', 'us-census']  \n",
       "51195  ['data-request', 'images', 'aerial-photography...  \n",
       "51196                        ['data-request', 'finance']  \n",
       "51197                          ['healthcare-finder-api']  \n",
       "51198           ['data-format', 'healthcare-finder-api']  \n",
       "\n",
       "[51199 rows x 3 columns]"
      ]
     },
     "execution_count": 39,
     "metadata": {},
     "output_type": "execute_result"
    }
   ],
   "source": [
    "wofa_df = df.drop('First Answer', axis=1).copy()\n",
    "wofa_df"
   ]
  },
  {
   "cell_type": "code",
   "execution_count": 40,
   "metadata": {},
   "outputs": [
    {
     "data": {
      "text/html": [
       "<div>\n",
       "<style scoped>\n",
       "    .dataframe tbody tr th:only-of-type {\n",
       "        vertical-align: middle;\n",
       "    }\n",
       "\n",
       "    .dataframe tbody tr th {\n",
       "        vertical-align: top;\n",
       "    }\n",
       "\n",
       "    .dataframe thead th {\n",
       "        text-align: right;\n",
       "    }\n",
       "</style>\n",
       "<table border=\"1\" class=\"dataframe\">\n",
       "  <thead>\n",
       "    <tr style=\"text-align: right;\">\n",
       "      <th></th>\n",
       "      <th>Head</th>\n",
       "      <th>Body</th>\n",
       "      <th>Tags</th>\n",
       "    </tr>\n",
       "  </thead>\n",
       "  <tbody>\n",
       "    <tr>\n",
       "      <th>count</th>\n",
       "      <td>51104</td>\n",
       "      <td>50902</td>\n",
       "      <td>50888</td>\n",
       "    </tr>\n",
       "    <tr>\n",
       "      <th>unique</th>\n",
       "      <td>48978</td>\n",
       "      <td>48809</td>\n",
       "      <td>37079</td>\n",
       "    </tr>\n",
       "    <tr>\n",
       "      <th>top</th>\n",
       "      <td>R's lmer cheat sheet</td>\n",
       "      <td>\\nThere's a lot of discussion going on on this...</td>\n",
       "      <td>['data-request']</td>\n",
       "    </tr>\n",
       "    <tr>\n",
       "      <th>freq</th>\n",
       "      <td>5</td>\n",
       "      <td>5</td>\n",
       "      <td>357</td>\n",
       "    </tr>\n",
       "  </tbody>\n",
       "</table>\n",
       "</div>"
      ],
      "text/plain": [
       "                        Head  \\\n",
       "count                  51104   \n",
       "unique                 48978   \n",
       "top     R's lmer cheat sheet   \n",
       "freq                       5   \n",
       "\n",
       "                                                     Body              Tags  \n",
       "count                                               50902             50888  \n",
       "unique                                              48809             37079  \n",
       "top     \\nThere's a lot of discussion going on on this...  ['data-request']  \n",
       "freq                                                    5               357  "
      ]
     },
     "execution_count": 40,
     "metadata": {},
     "output_type": "execute_result"
    }
   ],
   "source": [
    "wofa_df.describe()"
   ]
  },
  {
   "cell_type": "code",
   "execution_count": 41,
   "metadata": {},
   "outputs": [
    {
     "name": "stdout",
     "output_type": "stream",
     "text": [
      "<class 'pandas.core.frame.DataFrame'>\n",
      "RangeIndex: 51199 entries, 0 to 51198\n",
      "Data columns (total 3 columns):\n",
      " #   Column  Non-Null Count  Dtype \n",
      "---  ------  --------------  ----- \n",
      " 0   Head    51104 non-null  object\n",
      " 1   Body    50902 non-null  object\n",
      " 2   Tags    50888 non-null  object\n",
      "dtypes: object(3)\n",
      "memory usage: 1.2+ MB\n"
     ]
    }
   ],
   "source": [
    "wofa_df.info()"
   ]
  },
  {
   "cell_type": "code",
   "execution_count": 42,
   "metadata": {},
   "outputs": [
    {
     "data": {
      "text/plain": [
       "Head     95\n",
       "Body    297\n",
       "Tags    311\n",
       "dtype: int64"
      ]
     },
     "execution_count": 42,
     "metadata": {},
     "output_type": "execute_result"
    }
   ],
   "source": [
    "wofa_df.isna().sum()"
   ]
  },
  {
   "cell_type": "code",
   "execution_count": 43,
   "metadata": {},
   "outputs": [
    {
     "data": {
      "text/plain": [
       "<Axes: >"
      ]
     },
     "execution_count": 43,
     "metadata": {},
     "output_type": "execute_result"
    },
    {
     "data": {
      "image/png": "[encoded data removed]",
      "text/plain": [
       "<Figure size 2500x1000 with 2 Axes>"
      ]
     },
     "metadata": {},
     "output_type": "display_data"
    }
   ],
   "source": [
    "msno.matrix(wofa_df)"
   ]
  },
  {
   "cell_type": "markdown",
   "metadata": {},
   "source": [
    "- We can se from the missing values distribution that both body and tags are common in the missing values.\n",
    "- If we can drop these rows, we can get rid of most of the missing values without hampering the quality of the data, because we are doing a supervised learning task and we need the tags to be present."
   ]
  },
  {
   "cell_type": "code",
   "execution_count": 44,
   "metadata": {},
   "outputs": [
    {
     "data": {
      "text/plain": [
       "<Axes: >"
      ]
     },
     "execution_count": 44,
     "metadata": {},
     "output_type": "execute_result"
    },
    {
     "data": {
      "image/png": "[encoded data removed]",
      "text/plain": [
       "<Figure size 2500x1000 with 2 Axes>"
      ]
     },
     "metadata": {},
     "output_type": "display_data"
    }
   ],
   "source": [
    "df['First Answer'].fillna('No Answer', inplace=True)\n",
    "df.dropna(inplace=True)\n",
    "df.drop_duplicates(inplace=True)\n",
    "msno.matrix(df)"
   ]
  },
  {
   "cell_type": "markdown",
   "metadata": {},
   "source": [
    "* ### Now our data is in a good shape, we can start to do some analysis on it."
   ]
  },
  {
   "cell_type": "code",
   "execution_count": 46,
   "metadata": {},
   "outputs": [],
   "source": [
    "# Saving the cleaned data to a csv file\n",
    "\n",
    "df.to_csv('Data/cleaned_data_part1.csv', index=False)"
   ]
  },
  {
   "cell_type": "code",
   "execution_count": null,
   "metadata": {},
   "outputs": [],
   "source": []
  }
 ],
 "metadata": {
  "kernelspec": {
   "display_name": ".venv",
   "language": "python",
   "name": "python3"
  },
  "language_info": {
   "codemirror_mode": {
    "name": "ipython",
    "version": 3
   },
   "file_extension": ".py",
   "mimetype": "text/x-python",
   "name": "python",
   "nbconvert_exporter": "python",
   "pygments_lexer": "ipython3",
   "version": "3.10.11"
  },
  "orig_nbformat": 4
 },
 "nbformat": 4,
 "nbformat_minor": 2
}
