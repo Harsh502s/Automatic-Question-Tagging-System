{
 "cells": [
  {
   "cell_type": "code",
   "execution_count": null,
   "metadata": {},
   "outputs": [],
   "source": [
    "from bs4 import BeautifulSoup\n",
    "import requests\n",
    "import pandas as pd\n",
    "from tqdm import tqdm\n",
    "import concurrent.futures as cf\n",
    "import multiprocessing as mp\n",
    "\n",
    "headers = {'User-Agent': 'Mozilla/5.0 (Windows NT 10.0; Win64; x64) AppleWebKit/537.36 (KHTML, like Gecko) Chrome/115.0.0.0 Safari/537.36'}"
   ]
  },
  {
   "cell_type": "code",
   "execution_count": null,
   "metadata": {},
   "outputs": [],
   "source": [
    "site = 'https://stats.stackexchange.com/questions?tab=Votes&pagesize=50'\n",
    "noofpages = None\n",
    "response = requests.get(site)\n",
    "soup = BeautifulSoup(response.text, 'html.parser')\n",
    "noofpages = int(soup.find('div', class_= 's-pagination site65 themed pager float-left').find_all('a')[-2].text)"
   ]
  },
  {
   "cell_type": "code",
   "execution_count": null,
   "metadata": {},
   "outputs": [],
   "source": [
    "urls = []\n",
    "base_url = 'https://stats.stackexchange.com/questions?tab=Votes&pagesize=50'\n",
    "for i in range(1, int(noofpages) + 1):\n",
    "        if i == 1:\n",
    "            urls.append(base_url)\n",
    "        else:\n",
    "            urls.append(base_url + '&page=' + str(i))"
   ]
  },
  {
   "cell_type": "code",
   "execution_count": null,
   "metadata": {},
   "outputs": [],
   "source": [
    "def scrape():\n",
    "    question_links = []\n",
    "    for url in tqdm(urls):\n",
    "        page = requests.get(url,headers=headers)\n",
    "        soup = BeautifulSoup(page.text, 'html.parser')\n",
    "        for link in soup.find('div', attrs= {'class':'flush-left','id':'questions'}).find_all('a', attrs = {'class':'s-link'}):\n",
    "            question_links.append('https://stats.stackexchange.com' + link.get('href'))\n",
    "    return pd.DataFrame(question_links,columns=['Question Links'])\n",
    "\n",
    "df = scrape()\n",
    "df.to_csv('question_links.csv',index=False)"
   ]
  }
 ],
 "metadata": {
  "kernelspec": {
   "display_name": ".venv",
   "language": "python",
   "name": "python3"
  },
  "language_info": {
   "codemirror_mode": {
    "name": "ipython",
    "version": 3
   },
   "file_extension": ".py",
   "mimetype": "text/x-python",
   "name": "python",
   "nbconvert_exporter": "python",
   "pygments_lexer": "ipython3",
   "version": "3.10.4"
  },
  "orig_nbformat": 4
 },
 "nbformat": 4,
 "nbformat_minor": 2
}
