{
 "cells": [
  {
   "cell_type": "code",
   "execution_count": 1,
   "metadata": {},
   "outputs": [],
   "source": [
    "from bs4 import BeautifulSoup\n",
    "import requests\n",
    "import pandas as pd\n",
    "from tqdm import tqdm\n",
    "import concurrent.futures as cf\n",
    "import multiprocessing as mp\n",
    "\n",
    "headers = {'User-Agent': 'Mozilla/5.0 (Windows NT 10.0; Win64; x64) AppleWebKit/537.36 (KHTML, like Gecko) Chrome/115.0.0.0 Safari/537.36'}"
   ]
  },
  {
   "cell_type": "code",
   "execution_count": 10,
   "metadata": {},
   "outputs": [],
   "source": [
    "site = 'https://datascience.stackexchange.com/questions?tab=Votes&pagesize=50'\n",
    "noofpages = None\n",
    "response = requests.get(site)\n",
    "soup = BeautifulSoup(response.text, 'html.parser')\n",
    "noofpages = int(soup.find('div', class_= 's-pagination site557 themed pager float-left').find_all('a')[-2].text)"
   ]
  },
  {
   "cell_type": "code",
   "execution_count": 11,
   "metadata": {},
   "outputs": [
    {
     "name": "stdout",
     "output_type": "stream",
     "text": [
      "727\n"
     ]
    }
   ],
   "source": [
    "print(noofpages)"
   ]
  },
  {
   "cell_type": "code",
   "execution_count": 12,
   "metadata": {},
   "outputs": [],
   "source": [
    "urls = []\n",
    "base_url = 'https://datascience.stackexchange.com/questions?tab=Votes&pagesize=50'\n",
    "for i in range(1, int(noofpages) + 1):\n",
    "        if i == 1:\n",
    "            urls.append(base_url)\n",
    "        else:\n",
    "            urls.append(base_url + '&page=' + str(i))"
   ]
  },
  {
   "cell_type": "code",
   "execution_count": 13,
   "metadata": {},
   "outputs": [
    {
     "name": "stderr",
     "output_type": "stream",
     "text": [
      "100%|██████████| 727/727 [11:22<00:00,  1.07it/s]\n"
     ]
    }
   ],
   "source": [
    "def scrape():\n",
    "    question_links = []\n",
    "    for url in tqdm(urls):\n",
    "        page = requests.get(url,headers=headers)\n",
    "        soup = BeautifulSoup(page.text, 'html.parser')\n",
    "        for link in soup.find('div', attrs= {'class':'flush-left','id':'questions'}).find_all('a', attrs = {'class':'s-link'}):\n",
    "            question_links.append(link.get('href'))\n",
    "    return pd.DataFrame(question_links,columns=['Question Links'])\n",
    "\n",
    "df = scrape()\n",
    "df.to_csv('question_links.csv',index=False)"
   ]
  },
  {
   "cell_type": "markdown",
   "metadata": {},
   "source": [
    "def scrape_page(url):\n",
    "    page = requests.get(url, headers=headers)\n",
    "    soup = BeautifulSoup(page.text, 'html.parser')\n",
    "    return [link.get('href') for link in soup.find('div', attrs={'class': 'flush-left', 'id': 'questions'}).find_all('a', attrs={'class': 's-link'})]\n",
    "\n",
    "def scrape():\n",
    "    question_links = []    \n",
    "    with cf.ThreadPoolExecutor(max_workers=2) as executor:\n",
    "        # Submit scraping tasks to the ThreadPoolExecutor\n",
    "        future_to_url = {executor.submit(scrape_page, url): url for url in urls}\n",
    "        \n",
    "        # Process the completed tasks\n",
    "        for future in cf.as_completed(future_to_url):\n",
    "            url = future_to_url[future]\n",
    "            try:\n",
    "                result = future.result()\n",
    "                question_links.extend('https://stats.stackexchange.com' + link for link in result)\n",
    "            except Exception as e:\n",
    "                print(f\"Error while scraping {url}: {e}\")\n",
    "\n",
    "    return pd.DataFrame(question_links, columns=['Question Links'])\n"
   ]
  }
 ],
 "metadata": {
  "kernelspec": {
   "display_name": ".venv",
   "language": "python",
   "name": "python3"
  },
  "language_info": {
   "codemirror_mode": {
    "name": "ipython",
    "version": 3
   },
   "file_extension": ".py",
   "mimetype": "text/x-python",
   "name": "python",
   "nbconvert_exporter": "python",
   "pygments_lexer": "ipython3",
   "version": "3.10.6"
  },
  "orig_nbformat": 4
 },
 "nbformat": 4,
 "nbformat_minor": 2
}
