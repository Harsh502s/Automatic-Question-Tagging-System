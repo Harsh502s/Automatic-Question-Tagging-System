{
 "cells": [
  {
   "cell_type": "code",
   "execution_count": 22,
   "metadata": {},
   "outputs": [],
   "source": [
    "import pandas as pd\n",
    "import numpy as np\n",
    "from ast import literal_eval\n",
    "\n",
    "import pandas as pd\n",
    "from gensim.models import Word2Vec\n",
    "from sklearn.feature_extraction.text import TfidfVectorizer\n",
    "from sklearn.model_selection import train_test_split\n",
    "from sklearn.preprocessing import MultiLabelBinarizer\n",
    "from sklearn.ensemble import RandomForestClassifier\n",
    "from sklearn.metrics import (\n",
    "    classification_report,\n",
    "    accuracy_score,\n",
    "    precision_score,\n",
    "    recall_score,\n",
    "    f1_score,\n",
    "    hamming_loss,\n",
    ")\n",
    "\n",
    "from sklearn.linear_model import LogisticRegression\n",
    "from sklearn.naive_bayes import GaussianNB\n",
    "from sklearn.svm import SVC\n",
    "from sklearn.multiclass import OneVsRestClassifier"
   ]
  },
  {
   "cell_type": "code",
   "execution_count": 23,
   "metadata": {},
   "outputs": [],
   "source": [
    "df = pd.read_csv(\"Data/cleaned_data_2.csv\")"
   ]
  },
  {
   "cell_type": "code",
   "execution_count": 24,
   "metadata": {},
   "outputs": [],
   "source": [
    "df[\"Tags\"] = df[\"Tags\"].apply(literal_eval)"
   ]
  },
  {
   "cell_type": "code",
   "execution_count": 25,
   "metadata": {},
   "outputs": [],
   "source": [
    "# Assuming your dataset has 'title', 'body', and 'tags' columns\n",
    "multi_label = MultiLabelBinarizer()\n",
    "multi_label.fit(df[\"Tags\"])\n",
    "y = multi_label.transform(df[\"Tags\"])"
   ]
  },
  {
   "cell_type": "code",
   "execution_count": 26,
   "metadata": {},
   "outputs": [],
   "source": [
    "tfidf = TfidfVectorizer(max_df=0.8, max_features=1000)\n",
    "# Tfidf = tfidf.fit_transform(data.text_cleaned)\n",
    "X_tf = tfidf.fit_transform(df[\"Text_Cleaned\"])"
   ]
  },
  {
   "cell_type": "code",
   "execution_count": 27,
   "metadata": {},
   "outputs": [],
   "source": [
    "X_train_tf, X_test_tf, y_train_tf, y_test_tf = train_test_split(\n",
    "    X_tf, y, test_size=0.2, random_state=42\n",
    ")"
   ]
  },
  {
   "cell_type": "code",
   "execution_count": 28,
   "metadata": {},
   "outputs": [
    {
     "name": "stderr",
     "output_type": "stream",
     "text": [
      "d:\\Github\\Automatic-Question-Tagging-System\\.venv\\lib\\site-packages\\sklearn\\multiclass.py:84: UserWarning: Label not 42 is present in all training examples.\n",
      "  warnings.warn(\n",
      "d:\\Github\\Automatic-Question-Tagging-System\\.venv\\lib\\site-packages\\sklearn\\multiclass.py:84: UserWarning: Label not 83 is present in all training examples.\n",
      "  warnings.warn(\n",
      "d:\\Github\\Automatic-Question-Tagging-System\\.venv\\lib\\site-packages\\sklearn\\multiclass.py:84: UserWarning: Label not 183 is present in all training examples.\n",
      "  warnings.warn(\n",
      "d:\\Github\\Automatic-Question-Tagging-System\\.venv\\lib\\site-packages\\sklearn\\multiclass.py:84: UserWarning: Label not 353 is present in all training examples.\n",
      "  warnings.warn(\n",
      "d:\\Github\\Automatic-Question-Tagging-System\\.venv\\lib\\site-packages\\sklearn\\multiclass.py:84: UserWarning: Label not 375 is present in all training examples.\n",
      "  warnings.warn(\n",
      "d:\\Github\\Automatic-Question-Tagging-System\\.venv\\lib\\site-packages\\sklearn\\multiclass.py:84: UserWarning: Label not 399 is present in all training examples.\n",
      "  warnings.warn(\n",
      "d:\\Github\\Automatic-Question-Tagging-System\\.venv\\lib\\site-packages\\sklearn\\multiclass.py:84: UserWarning: Label not 441 is present in all training examples.\n",
      "  warnings.warn(\n",
      "d:\\Github\\Automatic-Question-Tagging-System\\.venv\\lib\\site-packages\\sklearn\\multiclass.py:84: UserWarning: Label not 450 is present in all training examples.\n",
      "  warnings.warn(\n",
      "d:\\Github\\Automatic-Question-Tagging-System\\.venv\\lib\\site-packages\\sklearn\\multiclass.py:84: UserWarning: Label not 503 is present in all training examples.\n",
      "  warnings.warn(\n",
      "d:\\Github\\Automatic-Question-Tagging-System\\.venv\\lib\\site-packages\\sklearn\\multiclass.py:84: UserWarning: Label not 538 is present in all training examples.\n",
      "  warnings.warn(\n",
      "d:\\Github\\Automatic-Question-Tagging-System\\.venv\\lib\\site-packages\\sklearn\\multiclass.py:84: UserWarning: Label not 585 is present in all training examples.\n",
      "  warnings.warn(\n",
      "d:\\Github\\Automatic-Question-Tagging-System\\.venv\\lib\\site-packages\\sklearn\\multiclass.py:84: UserWarning: Label not 654 is present in all training examples.\n",
      "  warnings.warn(\n",
      "d:\\Github\\Automatic-Question-Tagging-System\\.venv\\lib\\site-packages\\sklearn\\multiclass.py:84: UserWarning: Label not 660 is present in all training examples.\n",
      "  warnings.warn(\n",
      "d:\\Github\\Automatic-Question-Tagging-System\\.venv\\lib\\site-packages\\sklearn\\multiclass.py:84: UserWarning: Label not 664 is present in all training examples.\n",
      "  warnings.warn(\n",
      "d:\\Github\\Automatic-Question-Tagging-System\\.venv\\lib\\site-packages\\sklearn\\multiclass.py:84: UserWarning: Label not 691 is present in all training examples.\n",
      "  warnings.warn(\n",
      "d:\\Github\\Automatic-Question-Tagging-System\\.venv\\lib\\site-packages\\sklearn\\multiclass.py:84: UserWarning: Label not 710 is present in all training examples.\n",
      "  warnings.warn(\n",
      "d:\\Github\\Automatic-Question-Tagging-System\\.venv\\lib\\site-packages\\sklearn\\multiclass.py:84: UserWarning: Label not 715 is present in all training examples.\n",
      "  warnings.warn(\n",
      "d:\\Github\\Automatic-Question-Tagging-System\\.venv\\lib\\site-packages\\sklearn\\multiclass.py:84: UserWarning: Label not 737 is present in all training examples.\n",
      "  warnings.warn(\n",
      "d:\\Github\\Automatic-Question-Tagging-System\\.venv\\lib\\site-packages\\sklearn\\multiclass.py:84: UserWarning: Label not 760 is present in all training examples.\n",
      "  warnings.warn(\n",
      "d:\\Github\\Automatic-Question-Tagging-System\\.venv\\lib\\site-packages\\sklearn\\multiclass.py:84: UserWarning: Label not 786 is present in all training examples.\n",
      "  warnings.warn(\n",
      "d:\\Github\\Automatic-Question-Tagging-System\\.venv\\lib\\site-packages\\sklearn\\multiclass.py:84: UserWarning: Label not 826 is present in all training examples.\n",
      "  warnings.warn(\n",
      "d:\\Github\\Automatic-Question-Tagging-System\\.venv\\lib\\site-packages\\sklearn\\multiclass.py:84: UserWarning: Label not 933 is present in all training examples.\n",
      "  warnings.warn(\n",
      "d:\\Github\\Automatic-Question-Tagging-System\\.venv\\lib\\site-packages\\sklearn\\multiclass.py:84: UserWarning: Label not 943 is present in all training examples.\n",
      "  warnings.warn(\n",
      "d:\\Github\\Automatic-Question-Tagging-System\\.venv\\lib\\site-packages\\sklearn\\multiclass.py:84: UserWarning: Label not 1029 is present in all training examples.\n",
      "  warnings.warn(\n",
      "d:\\Github\\Automatic-Question-Tagging-System\\.venv\\lib\\site-packages\\sklearn\\multiclass.py:84: UserWarning: Label not 1038 is present in all training examples.\n",
      "  warnings.warn(\n",
      "d:\\Github\\Automatic-Question-Tagging-System\\.venv\\lib\\site-packages\\sklearn\\multiclass.py:84: UserWarning: Label not 1064 is present in all training examples.\n",
      "  warnings.warn(\n",
      "d:\\Github\\Automatic-Question-Tagging-System\\.venv\\lib\\site-packages\\sklearn\\multiclass.py:84: UserWarning: Label not 1066 is present in all training examples.\n",
      "  warnings.warn(\n",
      "d:\\Github\\Automatic-Question-Tagging-System\\.venv\\lib\\site-packages\\sklearn\\multiclass.py:84: UserWarning: Label not 1098 is present in all training examples.\n",
      "  warnings.warn(\n",
      "d:\\Github\\Automatic-Question-Tagging-System\\.venv\\lib\\site-packages\\sklearn\\multiclass.py:84: UserWarning: Label not 1107 is present in all training examples.\n",
      "  warnings.warn(\n",
      "d:\\Github\\Automatic-Question-Tagging-System\\.venv\\lib\\site-packages\\sklearn\\multiclass.py:84: UserWarning: Label not 1129 is present in all training examples.\n",
      "  warnings.warn(\n",
      "d:\\Github\\Automatic-Question-Tagging-System\\.venv\\lib\\site-packages\\sklearn\\multiclass.py:84: UserWarning: Label not 1143 is present in all training examples.\n",
      "  warnings.warn(\n",
      "d:\\Github\\Automatic-Question-Tagging-System\\.venv\\lib\\site-packages\\sklearn\\multiclass.py:84: UserWarning: Label not 1189 is present in all training examples.\n",
      "  warnings.warn(\n",
      "d:\\Github\\Automatic-Question-Tagging-System\\.venv\\lib\\site-packages\\sklearn\\multiclass.py:84: UserWarning: Label not 1194 is present in all training examples.\n",
      "  warnings.warn(\n",
      "d:\\Github\\Automatic-Question-Tagging-System\\.venv\\lib\\site-packages\\sklearn\\multiclass.py:84: UserWarning: Label not 1212 is present in all training examples.\n",
      "  warnings.warn(\n",
      "d:\\Github\\Automatic-Question-Tagging-System\\.venv\\lib\\site-packages\\sklearn\\multiclass.py:84: UserWarning: Label not 1317 is present in all training examples.\n",
      "  warnings.warn(\n",
      "d:\\Github\\Automatic-Question-Tagging-System\\.venv\\lib\\site-packages\\sklearn\\multiclass.py:84: UserWarning: Label not 1319 is present in all training examples.\n",
      "  warnings.warn(\n",
      "d:\\Github\\Automatic-Question-Tagging-System\\.venv\\lib\\site-packages\\sklearn\\multiclass.py:84: UserWarning: Label not 1338 is present in all training examples.\n",
      "  warnings.warn(\n",
      "d:\\Github\\Automatic-Question-Tagging-System\\.venv\\lib\\site-packages\\sklearn\\multiclass.py:84: UserWarning: Label not 1361 is present in all training examples.\n",
      "  warnings.warn(\n",
      "d:\\Github\\Automatic-Question-Tagging-System\\.venv\\lib\\site-packages\\sklearn\\multiclass.py:84: UserWarning: Label not 1377 is present in all training examples.\n",
      "  warnings.warn(\n",
      "d:\\Github\\Automatic-Question-Tagging-System\\.venv\\lib\\site-packages\\sklearn\\multiclass.py:84: UserWarning: Label not 1398 is present in all training examples.\n",
      "  warnings.warn(\n",
      "d:\\Github\\Automatic-Question-Tagging-System\\.venv\\lib\\site-packages\\sklearn\\multiclass.py:84: UserWarning: Label not 1408 is present in all training examples.\n",
      "  warnings.warn(\n",
      "d:\\Github\\Automatic-Question-Tagging-System\\.venv\\lib\\site-packages\\sklearn\\multiclass.py:84: UserWarning: Label not 1412 is present in all training examples.\n",
      "  warnings.warn(\n",
      "d:\\Github\\Automatic-Question-Tagging-System\\.venv\\lib\\site-packages\\sklearn\\multiclass.py:84: UserWarning: Label not 1473 is present in all training examples.\n",
      "  warnings.warn(\n",
      "d:\\Github\\Automatic-Question-Tagging-System\\.venv\\lib\\site-packages\\sklearn\\multiclass.py:84: UserWarning: Label not 1630 is present in all training examples.\n",
      "  warnings.warn(\n",
      "d:\\Github\\Automatic-Question-Tagging-System\\.venv\\lib\\site-packages\\sklearn\\multiclass.py:84: UserWarning: Label not 1654 is present in all training examples.\n",
      "  warnings.warn(\n",
      "d:\\Github\\Automatic-Question-Tagging-System\\.venv\\lib\\site-packages\\sklearn\\multiclass.py:84: UserWarning: Label not 1701 is present in all training examples.\n",
      "  warnings.warn(\n",
      "d:\\Github\\Automatic-Question-Tagging-System\\.venv\\lib\\site-packages\\sklearn\\multiclass.py:84: UserWarning: Label not 1745 is present in all training examples.\n",
      "  warnings.warn(\n",
      "d:\\Github\\Automatic-Question-Tagging-System\\.venv\\lib\\site-packages\\sklearn\\multiclass.py:84: UserWarning: Label not 1754 is present in all training examples.\n",
      "  warnings.warn(\n",
      "d:\\Github\\Automatic-Question-Tagging-System\\.venv\\lib\\site-packages\\sklearn\\multiclass.py:84: UserWarning: Label not 1786 is present in all training examples.\n",
      "  warnings.warn(\n",
      "d:\\Github\\Automatic-Question-Tagging-System\\.venv\\lib\\site-packages\\sklearn\\multiclass.py:84: UserWarning: Label not 1825 is present in all training examples.\n",
      "  warnings.warn(\n",
      "d:\\Github\\Automatic-Question-Tagging-System\\.venv\\lib\\site-packages\\sklearn\\multiclass.py:84: UserWarning: Label not 1847 is present in all training examples.\n",
      "  warnings.warn(\n",
      "d:\\Github\\Automatic-Question-Tagging-System\\.venv\\lib\\site-packages\\sklearn\\multiclass.py:84: UserWarning: Label not 1880 is present in all training examples.\n",
      "  warnings.warn(\n",
      "d:\\Github\\Automatic-Question-Tagging-System\\.venv\\lib\\site-packages\\sklearn\\multiclass.py:84: UserWarning: Label not 1886 is present in all training examples.\n",
      "  warnings.warn(\n",
      "d:\\Github\\Automatic-Question-Tagging-System\\.venv\\lib\\site-packages\\sklearn\\multiclass.py:84: UserWarning: Label not 1976 is present in all training examples.\n",
      "  warnings.warn(\n",
      "d:\\Github\\Automatic-Question-Tagging-System\\.venv\\lib\\site-packages\\sklearn\\multiclass.py:84: UserWarning: Label not 2006 is present in all training examples.\n",
      "  warnings.warn(\n",
      "d:\\Github\\Automatic-Question-Tagging-System\\.venv\\lib\\site-packages\\sklearn\\multiclass.py:84: UserWarning: Label not 2012 is present in all training examples.\n",
      "  warnings.warn(\n",
      "d:\\Github\\Automatic-Question-Tagging-System\\.venv\\lib\\site-packages\\sklearn\\multiclass.py:84: UserWarning: Label not 2038 is present in all training examples.\n",
      "  warnings.warn(\n",
      "d:\\Github\\Automatic-Question-Tagging-System\\.venv\\lib\\site-packages\\sklearn\\multiclass.py:84: UserWarning: Label not 2040 is present in all training examples.\n",
      "  warnings.warn(\n",
      "d:\\Github\\Automatic-Question-Tagging-System\\.venv\\lib\\site-packages\\sklearn\\multiclass.py:84: UserWarning: Label not 2086 is present in all training examples.\n",
      "  warnings.warn(\n",
      "d:\\Github\\Automatic-Question-Tagging-System\\.venv\\lib\\site-packages\\sklearn\\multiclass.py:84: UserWarning: Label not 2088 is present in all training examples.\n",
      "  warnings.warn(\n",
      "d:\\Github\\Automatic-Question-Tagging-System\\.venv\\lib\\site-packages\\sklearn\\multiclass.py:84: UserWarning: Label not 2129 is present in all training examples.\n",
      "  warnings.warn(\n",
      "d:\\Github\\Automatic-Question-Tagging-System\\.venv\\lib\\site-packages\\sklearn\\multiclass.py:84: UserWarning: Label not 2131 is present in all training examples.\n",
      "  warnings.warn(\n",
      "d:\\Github\\Automatic-Question-Tagging-System\\.venv\\lib\\site-packages\\sklearn\\multiclass.py:84: UserWarning: Label not 2152 is present in all training examples.\n",
      "  warnings.warn(\n",
      "d:\\Github\\Automatic-Question-Tagging-System\\.venv\\lib\\site-packages\\sklearn\\multiclass.py:84: UserWarning: Label not 2170 is present in all training examples.\n",
      "  warnings.warn(\n",
      "d:\\Github\\Automatic-Question-Tagging-System\\.venv\\lib\\site-packages\\sklearn\\multiclass.py:84: UserWarning: Label not 2205 is present in all training examples.\n",
      "  warnings.warn(\n",
      "d:\\Github\\Automatic-Question-Tagging-System\\.venv\\lib\\site-packages\\sklearn\\multiclass.py:84: UserWarning: Label not 2207 is present in all training examples.\n",
      "  warnings.warn(\n",
      "d:\\Github\\Automatic-Question-Tagging-System\\.venv\\lib\\site-packages\\sklearn\\multiclass.py:84: UserWarning: Label not 2213 is present in all training examples.\n",
      "  warnings.warn(\n",
      "d:\\Github\\Automatic-Question-Tagging-System\\.venv\\lib\\site-packages\\sklearn\\multiclass.py:84: UserWarning: Label not 2303 is present in all training examples.\n",
      "  warnings.warn(\n",
      "d:\\Github\\Automatic-Question-Tagging-System\\.venv\\lib\\site-packages\\sklearn\\multiclass.py:84: UserWarning: Label not 2382 is present in all training examples.\n",
      "  warnings.warn(\n",
      "d:\\Github\\Automatic-Question-Tagging-System\\.venv\\lib\\site-packages\\sklearn\\multiclass.py:84: UserWarning: Label not 2391 is present in all training examples.\n",
      "  warnings.warn(\n",
      "d:\\Github\\Automatic-Question-Tagging-System\\.venv\\lib\\site-packages\\sklearn\\multiclass.py:84: UserWarning: Label not 2402 is present in all training examples.\n",
      "  warnings.warn(\n",
      "d:\\Github\\Automatic-Question-Tagging-System\\.venv\\lib\\site-packages\\sklearn\\multiclass.py:84: UserWarning: Label not 2473 is present in all training examples.\n",
      "  warnings.warn(\n",
      "d:\\Github\\Automatic-Question-Tagging-System\\.venv\\lib\\site-packages\\sklearn\\multiclass.py:84: UserWarning: Label not 2515 is present in all training examples.\n",
      "  warnings.warn(\n",
      "d:\\Github\\Automatic-Question-Tagging-System\\.venv\\lib\\site-packages\\sklearn\\multiclass.py:84: UserWarning: Label not 2536 is present in all training examples.\n",
      "  warnings.warn(\n",
      "d:\\Github\\Automatic-Question-Tagging-System\\.venv\\lib\\site-packages\\sklearn\\multiclass.py:84: UserWarning: Label not 2578 is present in all training examples.\n",
      "  warnings.warn(\n",
      "d:\\Github\\Automatic-Question-Tagging-System\\.venv\\lib\\site-packages\\sklearn\\multiclass.py:84: UserWarning: Label not 2586 is present in all training examples.\n",
      "  warnings.warn(\n",
      "d:\\Github\\Automatic-Question-Tagging-System\\.venv\\lib\\site-packages\\sklearn\\multiclass.py:84: UserWarning: Label not 2590 is present in all training examples.\n",
      "  warnings.warn(\n",
      "d:\\Github\\Automatic-Question-Tagging-System\\.venv\\lib\\site-packages\\sklearn\\multiclass.py:84: UserWarning: Label not 2593 is present in all training examples.\n",
      "  warnings.warn(\n",
      "d:\\Github\\Automatic-Question-Tagging-System\\.venv\\lib\\site-packages\\sklearn\\multiclass.py:84: UserWarning: Label not 2666 is present in all training examples.\n",
      "  warnings.warn(\n"
     ]
    }
   ],
   "source": [
    "# Making a list of model best suited for text and multitags classification\n",
    "\n",
    "lr = LogisticRegression()\n",
    "ovr = OneVsRestClassifier(lr)\n",
    "ovr.fit(X_train_tf, y_train_tf)\n",
    "y_pred_ovr = ovr.predict_proba(X_test_tf)"
   ]
  },
  {
   "cell_type": "code",
   "execution_count": 61,
   "metadata": {},
   "outputs": [
    {
     "name": "stdout",
     "output_type": "stream",
     "text": [
      "0.2683554948231461\n",
      "Accuracy: 3.155414404261858 %\n"
     ]
    }
   ],
   "source": [
    "# set threshold value\n",
    "t = 0.5\n",
    "\n",
    "# convert to integers\n",
    "y = (y_pred_ovr >= t).astype(int)\n",
    "print(f1_score(y_test_tf, y, average=\"micro\"))\n",
    "\n",
    "from sklearn.metrics import accuracy_score\n",
    "\n",
    "print(\"Accuracy:\", accuracy_score(y_test_tf, y) * 100, \"%\")"
   ]
  },
  {
   "cell_type": "code",
   "execution_count": 63,
   "metadata": {},
   "outputs": [],
   "source": [
    "from keras.preprocessing.text import Tokenizer\n",
    "from keras.preprocessing.sequence import pad_sequences"
   ]
  },
  {
   "cell_type": "code",
   "execution_count": 68,
   "metadata": {},
   "outputs": [],
   "source": [
    "tokenizer = Tokenizer()\n",
    "tokenizer.fit_on_texts(df[\"Text_Cleaned\"])"
   ]
  },
  {
   "cell_type": "code",
   "execution_count": 69,
   "metadata": {},
   "outputs": [
    {
     "data": {
      "text/plain": [
       "131482"
      ]
     },
     "execution_count": 69,
     "metadata": {},
     "output_type": "execute_result"
    }
   ],
   "source": [
    "len(tokenizer.word_index)"
   ]
  },
  {
   "cell_type": "code",
   "execution_count": 70,
   "metadata": {},
   "outputs": [
    {
     "data": {
      "text/plain": [
       "131483"
      ]
     },
     "execution_count": 70,
     "metadata": {},
     "output_type": "execute_result"
    }
   ],
   "source": [
    "# check unique words count\n",
    "vocab_size = len(tokenizer.word_index) + 1\n",
    "vocab_size"
   ]
  },
  {
   "cell_type": "code",
   "execution_count": 71,
   "metadata": {},
   "outputs": [],
   "source": [
    "sequences = tokenizer.texts_to_sequences(df[\"Text_Cleaned\"])"
   ]
  },
  {
   "cell_type": "code",
   "execution_count": 72,
   "metadata": {},
   "outputs": [
    {
     "name": "stdout",
     "output_type": "stream",
     "text": [
      "brain segmentation to 3d model  my goal is to take a dataset of brain tumor segmentations use computer vision to locate and highlight the tumor in each slice then combine each slice almost like stacking to make a 3d model in this 3d model you can see exactly where the tumor is located i am able to use cv to highlight tumors in individual layers but the challenge comes in stacking how would i go about stacking images to make 3d models with this i would have to remove empty outside space in individual images and be able to give each image some depth how would i go about doing this is there any existing library that can do this  \n",
      "\n",
      "[1737, 1472, 1244, 4, 500, 29, 1737, 5086, 1472, 9, 805, 1738, 2369, 2712, 5086, 2388, 590, 2388, 7152, 1244, 4, 1244, 4, 418, 5086, 2369, 218, 9, 586, 2712, 5086, 370, 47, 1641, 168, 1118, 1118, 55, 1244, 4, 526, 1417, 208, 370, 55, 218, 55, 782, 364, 324]\n"
     ]
    },
    {
     "data": {
      "text/plain": [
       "(None, None)"
      ]
     },
     "execution_count": 72,
     "metadata": {},
     "output_type": "execute_result"
    }
   ],
   "source": [
    "print(df[\"Text\"][0], \"\\n\"), print(sequences[0])"
   ]
  },
  {
   "cell_type": "code",
   "execution_count": 73,
   "metadata": {},
   "outputs": [],
   "source": [
    "seq_lengths = []\n",
    "\n",
    "for i in sequences:\n",
    "    seq_lengths.append(len(i))"
   ]
  },
  {
   "cell_type": "code",
   "execution_count": 74,
   "metadata": {},
   "outputs": [
    {
     "name": "stdout",
     "output_type": "stream",
     "text": [
      "30th percentile:  43.0\n",
      "40th percentile:  53.0\n",
      "50th percentile:  64.0\n",
      "60th percentile:  77.0\n",
      "70th percentile:  96.0\n",
      "80th percentile:  125.0\n",
      "90th percentile:  185.0\n",
      "95th percentile:  268.0\n",
      "99th percentile:  570.9800000000032\n"
     ]
    }
   ],
   "source": [
    "print(\"30th percentile: \", pd.Series(seq_lengths).quantile(0.3))\n",
    "print(\"40th percentile: \", pd.Series(seq_lengths).quantile(0.4))\n",
    "print(\"50th percentile: \", pd.Series(seq_lengths).quantile(0.5))\n",
    "print(\"60th percentile: \", pd.Series(seq_lengths).quantile(0.6))\n",
    "print(\"70th percentile: \", pd.Series(seq_lengths).quantile(0.7))\n",
    "print(\"80th percentile: \", pd.Series(seq_lengths).quantile(0.8))\n",
    "print(\"90th percentile: \", pd.Series(seq_lengths).quantile(0.9))\n",
    "print(\"95th percentile: \", pd.Series(seq_lengths).quantile(0.95))\n",
    "print(\"99th percentile: \", pd.Series(seq_lengths).quantile(0.99))"
   ]
  },
  {
   "cell_type": "code",
   "execution_count": 75,
   "metadata": {},
   "outputs": [],
   "source": [
    "max_length = 125\n",
    "\n",
    "# padding\n",
    "padded_seq = pad_sequences(sequences, maxlen=max_length)"
   ]
  },
  {
   "cell_type": "code",
   "execution_count": 76,
   "metadata": {},
   "outputs": [],
   "source": [
    "multilabel_binarizer = MultiLabelBinarizer()\n",
    "multilabel_binarizer.fit(df[\"Tags\"])\n",
    "y = multilabel_binarizer.transform(df[\"Tags\"])"
   ]
  },
  {
   "cell_type": "code",
   "execution_count": 77,
   "metadata": {},
   "outputs": [
    {
     "data": {
      "text/plain": [
       "((48803, 125), (48803, 2686))"
      ]
     },
     "execution_count": 77,
     "metadata": {},
     "output_type": "execute_result"
    }
   ],
   "source": [
    "padded_seq.shape, y.shape"
   ]
  },
  {
   "cell_type": "code",
   "execution_count": 78,
   "metadata": {},
   "outputs": [],
   "source": [
    "from sklearn.model_selection import train_test_split\n",
    "\n",
    "x_train, x_val, y_train, y_val = train_test_split(\n",
    "    padded_seq, y, test_size=0.2, random_state=9\n",
    ")"
   ]
  },
  {
   "cell_type": "code",
   "execution_count": 79,
   "metadata": {},
   "outputs": [],
   "source": [
    "from keras.models import Sequential, load_model\n",
    "from keras.layers import Dense, Embedding, GlobalMaxPool1D, Dropout, Conv1D\n",
    "from keras.callbacks import EarlyStopping, ModelCheckpoint"
   ]
  },
  {
   "cell_type": "code",
   "execution_count": 81,
   "metadata": {},
   "outputs": [],
   "source": [
    "model = Sequential()\n",
    "model.add(Embedding(vocab_size + 1, 128, input_length=max_length))\n",
    "model.add(Dropout(0.15))\n",
    "model.add(Conv1D(300, 5, padding=\"valid\", activation=\"relu\", strides=1))\n",
    "model.add(GlobalMaxPool1D())\n",
    "model.add(Dense(2686, activation=\"sigmoid\"))\n",
    "# model.add(Activation('sigmoid'))"
   ]
  },
  {
   "cell_type": "code",
   "execution_count": 82,
   "metadata": {},
   "outputs": [
    {
     "name": "stdout",
     "output_type": "stream",
     "text": [
      "Model: \"sequential\"\n",
      "_________________________________________________________________\n",
      " Layer (type)                Output Shape              Param #   \n",
      "=================================================================\n",
      " embedding (Embedding)       (None, 125, 128)          16829952  \n",
      "                                                                 \n",
      " dropout (Dropout)           (None, 125, 128)          0         \n",
      "                                                                 \n",
      " conv1d (Conv1D)             (None, 121, 300)          192300    \n",
      "                                                                 \n",
      " global_max_pooling1d (Glob  (None, 300)               0         \n",
      " alMaxPooling1D)                                                 \n",
      "                                                                 \n",
      " dense (Dense)               (None, 2686)              808486    \n",
      "                                                                 \n",
      "=================================================================\n",
      "Total params: 17830738 (68.02 MB)\n",
      "Trainable params: 17830738 (68.02 MB)\n",
      "Non-trainable params: 0 (0.00 Byte)\n",
      "_________________________________________________________________\n"
     ]
    }
   ],
   "source": [
    "model.compile(optimizer=\"adam\", loss=\"binary_crossentropy\", metrics=[\"accuracy\"])\n",
    "\n",
    "model.summary()"
   ]
  },
  {
   "cell_type": "code",
   "execution_count": 83,
   "metadata": {},
   "outputs": [],
   "source": [
    "callbacks = [\n",
    "    EarlyStopping(patience=3),\n",
    "    ModelCheckpoint(filepath=\"model-conv1d_v1.h5\", save_best_only=True),\n",
    "]"
   ]
  },
  {
   "cell_type": "code",
   "execution_count": 84,
   "metadata": {},
   "outputs": [
    {
     "name": "stdout",
     "output_type": "stream",
     "text": [
      "Epoch 1/15\n",
      "275/275 [==============================] - ETA: 0s - loss: 0.0494 - accuracy: 0.0351"
     ]
    },
    {
     "name": "stderr",
     "output_type": "stream",
     "text": [
      "d:\\Github\\Automatic-Question-Tagging-System\\.venv\\lib\\site-packages\\keras\\src\\engine\\training.py:3079: UserWarning: You are saving your model as an HDF5 file via `model.save()`. This file format is considered legacy. We recommend using instead the native Keras format, e.g. `model.save('my_model.keras')`.\n",
      "  saving_api.save_model(\n"
     ]
    },
    {
     "name": "stdout",
     "output_type": "stream",
     "text": [
      "275/275 [==============================] - 150s 541ms/step - loss: 0.0494 - accuracy: 0.0351 - val_loss: 0.0072 - val_accuracy: 0.0328\n",
      "Epoch 2/15\n",
      "275/275 [==============================] - 155s 562ms/step - loss: 0.0071 - accuracy: 0.0394 - val_loss: 0.0071 - val_accuracy: 0.0356\n",
      "Epoch 3/15\n",
      "275/275 [==============================] - 156s 569ms/step - loss: 0.0070 - accuracy: 0.0453 - val_loss: 0.0071 - val_accuracy: 0.0371\n",
      "Epoch 4/15\n",
      "275/275 [==============================] - 162s 589ms/step - loss: 0.0069 - accuracy: 0.0562 - val_loss: 0.0069 - val_accuracy: 0.0584\n",
      "Epoch 5/15\n",
      "275/275 [==============================] - 163s 594ms/step - loss: 0.0067 - accuracy: 0.0675 - val_loss: 0.0066 - val_accuracy: 0.0617\n",
      "Epoch 6/15\n",
      "275/275 [==============================] - 164s 598ms/step - loss: 0.0064 - accuracy: 0.0758 - val_loss: 0.0064 - val_accuracy: 0.0722\n",
      "Epoch 7/15\n",
      "275/275 [==============================] - 165s 601ms/step - loss: 0.0061 - accuracy: 0.0871 - val_loss: 0.0061 - val_accuracy: 0.0942\n",
      "Epoch 8/15\n",
      "275/275 [==============================] - 168s 612ms/step - loss: 0.0058 - accuracy: 0.1086 - val_loss: 0.0058 - val_accuracy: 0.1157\n",
      "Epoch 9/15\n",
      "166/275 [=================>............] - ETA: 1:05 - loss: 0.0056 - accuracy: 0.1251"
     ]
    }
   ],
   "source": [
    "# train model\n",
    "history = model.fit(\n",
    "    x_train,\n",
    "    y_train,\n",
    "    epochs=15,\n",
    "    batch_size=128,\n",
    "    validation_split=0.1,\n",
    "    callbacks=callbacks,\n",
    ")"
   ]
  }
 ],
 "metadata": {
  "kernelspec": {
   "display_name": ".venv",
   "language": "python",
   "name": "python3"
  },
  "language_info": {
   "codemirror_mode": {
    "name": "ipython",
    "version": 3
   },
   "file_extension": ".py",
   "mimetype": "text/x-python",
   "name": "python",
   "nbconvert_exporter": "python",
   "pygments_lexer": "ipython3",
   "version": "3.10.11"
  },
  "orig_nbformat": 4
 },
 "nbformat": 4,
 "nbformat_minor": 2
}
