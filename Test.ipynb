{
 "cells": [
  {
   "cell_type": "code",
   "execution_count": null,
   "metadata": {},
   "outputs": [],
   "source": [
    "import pandas as pd\n",
    "for i in range(1,14):\n",
    "    try:\n",
    "        df = pd.read_csv(f'Data/data{i}.csv')\n",
    "        print('-'*50)\n",
    "        print('DATA:',i)\n",
    "        print('-'*50)\n",
    "        print(df.isna().sum())\n",
    "    except:\n",
    "        df = pd.read_csv(f'Data/data{i}_1.csv')\n",
    "        print('-'*50)\n",
    "        print('DATA:',i)\n",
    "        print('-'*50)\n",
    "        print(df.isna().sum())\n",
    "        pass\n",
    "    pass"
   ]
  },
  {
   "cell_type": "code",
   "execution_count": 1,
   "metadata": {},
   "outputs": [],
   "source": [
    "import pandas as pd"
   ]
  },
  {
   "cell_type": "code",
   "execution_count": 2,
   "metadata": {},
   "outputs": [],
   "source": [
    "df = pd.read_html('https://en.wikipedia.org/wiki/Largest_airlines_in_the_world')"
   ]
  }
 ],
 "metadata": {
  "kernelspec": {
   "display_name": ".venv",
   "language": "python",
   "name": "python3"
  },
  "language_info": {
   "codemirror_mode": {
    "name": "ipython",
    "version": 3
   },
   "file_extension": ".py",
   "mimetype": "text/x-python",
   "name": "python",
   "nbconvert_exporter": "python",
   "pygments_lexer": "ipython3",
   "version": "3.10.11"
  },
  "orig_nbformat": 4
 },
 "nbformat": 4,
 "nbformat_minor": 2
}
