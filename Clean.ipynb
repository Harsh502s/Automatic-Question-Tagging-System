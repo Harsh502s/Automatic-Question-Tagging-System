{
 "cells": [
  {
   "cell_type": "code",
   "execution_count": 1,
   "metadata": {},
   "outputs": [
    {
     "name": "stdout",
     "output_type": "stream",
     "text": [
      "398\n"
     ]
    }
   ],
   "source": [
    "# Importing basic Libraries for EDA\n",
    "\n",
    "import pandas as pd\n",
    "import regex as re\n",
    "from ast import literal_eval\n",
    "import warnings\n",
    "\n",
    "warnings.filterwarnings(\"ignore\")\n",
    "\n",
    "\n",
    "pd.set_option(\"display.max_columns\", 10)\n",
    "\n",
    "# Create a list of stopwords\n",
    "import nltk\n",
    "import spacy\n",
    "\n",
    "stopwords_nltk = nltk.corpus.stopwords.words(\"english\")\n",
    "nlp = spacy.load(\"en_core_web_lg\")\n",
    "stopwords_spacy = nlp.Defaults.stop_words\n",
    "stopwords = list(\n",
    "    set(\n",
    "        stopwords_nltk\n",
    "        + list(stopwords_spacy)\n",
    "        + list(stopwords_nltk)\n",
    "        + list(\"abdefghijklmnopqstuvwxyz\")\n",
    "    )\n",
    ")\n",
    "print(len(stopwords))"
   ]
  },
  {
   "cell_type": "code",
   "execution_count": 2,
   "metadata": {},
   "outputs": [
    {
     "data": {
      "text/html": [
       "<div>\n",
       "<style scoped>\n",
       "    .dataframe tbody tr th:only-of-type {\n",
       "        vertical-align: middle;\n",
       "    }\n",
       "\n",
       "    .dataframe tbody tr th {\n",
       "        vertical-align: top;\n",
       "    }\n",
       "\n",
       "    .dataframe thead th {\n",
       "        text-align: right;\n",
       "    }\n",
       "</style>\n",
       "<table border=\"1\" class=\"dataframe\">\n",
       "  <thead>\n",
       "    <tr style=\"text-align: right;\">\n",
       "      <th></th>\n",
       "      <th>Head</th>\n",
       "      <th>Body</th>\n",
       "      <th>Tags</th>\n",
       "    </tr>\n",
       "  </thead>\n",
       "  <tbody>\n",
       "    <tr>\n",
       "      <th>0</th>\n",
       "      <td>Brain Segmentation To 3D Model</td>\n",
       "      <td>\\r\\nMy goal is to take a dataset of Brain Tumo...</td>\n",
       "      <td>['computer-vision', 'python']</td>\n",
       "    </tr>\n",
       "    <tr>\n",
       "      <th>1</th>\n",
       "      <td>Active Learning regression with Random Forest</td>\n",
       "      <td>\\r\\nI have a dataset of about 8k points and I ...</td>\n",
       "      <td>['machine-learning', 'regression', 'uncertaint...</td>\n",
       "    </tr>\n",
       "    <tr>\n",
       "      <th>2</th>\n",
       "      <td>Comparing Reinforcement Learning models</td>\n",
       "      <td>\\r\\nI am currently completing my thesis on opt...</td>\n",
       "      <td>['reinforcement-learning', 'policy-gradients',...</td>\n",
       "    </tr>\n",
       "    <tr>\n",
       "      <th>3</th>\n",
       "      <td>Why \"Good Model\" that performs great on holdou...</td>\n",
       "      <td>\\r\\nI have this binary regression model that h...</td>\n",
       "      <td>['deep-learning', 'deep-neural-networks', 'pre...</td>\n",
       "    </tr>\n",
       "    <tr>\n",
       "      <th>4</th>\n",
       "      <td>What are Reservoir computers used for today?</td>\n",
       "      <td>\\r\\nReservoir computers were very popular in t...</td>\n",
       "      <td>['machine-learning', 'recurrent-neural-network...</td>\n",
       "    </tr>\n",
       "  </tbody>\n",
       "</table>\n",
       "</div>"
      ],
      "text/plain": [
       "                                                Head  \\\n",
       "0                     Brain Segmentation To 3D Model   \n",
       "1      Active Learning regression with Random Forest   \n",
       "2            Comparing Reinforcement Learning models   \n",
       "3  Why \"Good Model\" that performs great on holdou...   \n",
       "4       What are Reservoir computers used for today?   \n",
       "\n",
       "                                                Body  \\\n",
       "0  \\r\\nMy goal is to take a dataset of Brain Tumo...   \n",
       "1  \\r\\nI have a dataset of about 8k points and I ...   \n",
       "2  \\r\\nI am currently completing my thesis on opt...   \n",
       "3  \\r\\nI have this binary regression model that h...   \n",
       "4  \\r\\nReservoir computers were very popular in t...   \n",
       "\n",
       "                                                Tags  \n",
       "0                      ['computer-vision', 'python']  \n",
       "1  ['machine-learning', 'regression', 'uncertaint...  \n",
       "2  ['reinforcement-learning', 'policy-gradients',...  \n",
       "3  ['deep-learning', 'deep-neural-networks', 'pre...  \n",
       "4  ['machine-learning', 'recurrent-neural-network...  "
      ]
     },
     "execution_count": 2,
     "metadata": {},
     "output_type": "execute_result"
    }
   ],
   "source": [
    "\n",
    "df = pd.read_csv(\"Data/combined_df.csv\")\n",
    "df.head()"
   ]
  },
  {
   "cell_type": "code",
   "execution_count": 3,
   "metadata": {},
   "outputs": [],
   "source": [
    "\n",
    "# Dropping the rows with missing values in the body and tags columns and dropping the duplicates.\n",
    "df.dropna(inplace=True)\n",
    "df.drop_duplicates(inplace=True)"
   ]
  },
  {
   "cell_type": "code",
   "execution_count": 4,
   "metadata": {},
   "outputs": [],
   "source": [
    "df[\"Text\"] = df[\"Head\"] + \" \" + df[\"Body\"]\n",
    "\n",
    "# Cleaning the tags\n",
    "df[\"Tags Count\"] = df[\"Tags\"].apply(lambda x: len(literal_eval(x)))\n",
    "df[\"Tags Count\"] = df['Tags Count'].astype(\"int16\")"
   ]
  },
  {
   "cell_type": "code",
   "execution_count": 6,
   "metadata": {},
   "outputs": [
    {
     "name": "stdout",
     "output_type": "stream",
     "text": [
      "<class 'pandas.core.frame.DataFrame'>\n",
      "Index: 48803 entries, 0 to 48810\n",
      "Data columns (total 5 columns):\n",
      " #   Column      Non-Null Count  Dtype \n",
      "---  ------      --------------  ----- \n",
      " 0   Head        48803 non-null  object\n",
      " 1   Body        48803 non-null  object\n",
      " 2   Tags        48803 non-null  object\n",
      " 3   Text        48803 non-null  object\n",
      " 4   Tags Count  48803 non-null  int16 \n",
      "dtypes: int16(1), object(4)\n",
      "memory usage: 2.0+ MB\n"
     ]
    }
   ],
   "source": [
    "df.info()"
   ]
  },
  {
   "cell_type": "code",
   "execution_count": 7,
   "metadata": {},
   "outputs": [],
   "source": [
    "\n",
    "# Removing the rows with more than 5 tags\n",
    "df = df[df[\"Tags Count\"] <= 5]"
   ]
  },
  {
   "cell_type": "code",
   "execution_count": 8,
   "metadata": {},
   "outputs": [],
   "source": [
    "def clean_text(text):\n",
    "    text = re.sub(r\"[^a-zA-Z]\", \" \", text)\n",
    "    text = re.sub(r\"\\s+\", \" \", text)\n",
    "    text = text.lower()\n",
    "    text = text.strip()\n",
    "    # Lemmatization and removing stopwords\n",
    "    text = \" \".join(\n",
    "        [\n",
    "            token.lemma_\n",
    "            for token in nlp(text)\n",
    "            if token.lemma_ not in stopwords and token.lemma_ != \"-PRON-\"\n",
    "        ]\n",
    "    )\n",
    "    return text\n",
    "\n",
    "df['Text'] = df['Text'].apply(clean_text)"
   ]
  },
  {
   "cell_type": "code",
   "execution_count": 9,
   "metadata": {},
   "outputs": [
    {
     "data": {
      "text/html": [
       "<div>\n",
       "<style scoped>\n",
       "    .dataframe tbody tr th:only-of-type {\n",
       "        vertical-align: middle;\n",
       "    }\n",
       "\n",
       "    .dataframe tbody tr th {\n",
       "        vertical-align: top;\n",
       "    }\n",
       "\n",
       "    .dataframe thead th {\n",
       "        text-align: right;\n",
       "    }\n",
       "</style>\n",
       "<table border=\"1\" class=\"dataframe\">\n",
       "  <thead>\n",
       "    <tr style=\"text-align: right;\">\n",
       "      <th></th>\n",
       "      <th>Head</th>\n",
       "      <th>Body</th>\n",
       "      <th>Tags</th>\n",
       "      <th>Text</th>\n",
       "      <th>Tags Count</th>\n",
       "    </tr>\n",
       "  </thead>\n",
       "  <tbody>\n",
       "    <tr>\n",
       "      <th>0</th>\n",
       "      <td>Brain Segmentation To 3D Model</td>\n",
       "      <td>\\r\\nMy goal is to take a dataset of Brain Tumo...</td>\n",
       "      <td>['computer-vision', 'python']</td>\n",
       "      <td>brain segmentation model goal dataset brain tu...</td>\n",
       "      <td>2</td>\n",
       "    </tr>\n",
       "    <tr>\n",
       "      <th>1</th>\n",
       "      <td>Active Learning regression with Random Forest</td>\n",
       "      <td>\\r\\nI have a dataset of about 8k points and I ...</td>\n",
       "      <td>['machine-learning', 'regression', 'uncertaint...</td>\n",
       "      <td>active learning regression random forest I dat...</td>\n",
       "      <td>5</td>\n",
       "    </tr>\n",
       "    <tr>\n",
       "      <th>2</th>\n",
       "      <td>Comparing Reinforcement Learning models</td>\n",
       "      <td>\\r\\nI am currently completing my thesis on opt...</td>\n",
       "      <td>['reinforcement-learning', 'policy-gradients',...</td>\n",
       "      <td>compare reinforcement learning model I current...</td>\n",
       "      <td>4</td>\n",
       "    </tr>\n",
       "    <tr>\n",
       "      <th>3</th>\n",
       "      <td>Why \"Good Model\" that performs great on holdou...</td>\n",
       "      <td>\\r\\nI have this binary regression model that h...</td>\n",
       "      <td>['deep-learning', 'deep-neural-networks', 'pre...</td>\n",
       "      <td>good model perform great holdout validation da...</td>\n",
       "      <td>5</td>\n",
       "    </tr>\n",
       "    <tr>\n",
       "      <th>4</th>\n",
       "      <td>What are Reservoir computers used for today?</td>\n",
       "      <td>\\r\\nReservoir computers were very popular in t...</td>\n",
       "      <td>['machine-learning', 'recurrent-neural-network...</td>\n",
       "      <td>reservoir computer use today reservoir compute...</td>\n",
       "      <td>3</td>\n",
       "    </tr>\n",
       "  </tbody>\n",
       "</table>\n",
       "</div>"
      ],
      "text/plain": [
       "                                                Head  \\\n",
       "0                     Brain Segmentation To 3D Model   \n",
       "1      Active Learning regression with Random Forest   \n",
       "2            Comparing Reinforcement Learning models   \n",
       "3  Why \"Good Model\" that performs great on holdou...   \n",
       "4       What are Reservoir computers used for today?   \n",
       "\n",
       "                                                Body  \\\n",
       "0  \\r\\nMy goal is to take a dataset of Brain Tumo...   \n",
       "1  \\r\\nI have a dataset of about 8k points and I ...   \n",
       "2  \\r\\nI am currently completing my thesis on opt...   \n",
       "3  \\r\\nI have this binary regression model that h...   \n",
       "4  \\r\\nReservoir computers were very popular in t...   \n",
       "\n",
       "                                                Tags  \\\n",
       "0                      ['computer-vision', 'python']   \n",
       "1  ['machine-learning', 'regression', 'uncertaint...   \n",
       "2  ['reinforcement-learning', 'policy-gradients',...   \n",
       "3  ['deep-learning', 'deep-neural-networks', 'pre...   \n",
       "4  ['machine-learning', 'recurrent-neural-network...   \n",
       "\n",
       "                                                Text  Tags Count  \n",
       "0  brain segmentation model goal dataset brain tu...           2  \n",
       "1  active learning regression random forest I dat...           5  \n",
       "2  compare reinforcement learning model I current...           4  \n",
       "3  good model perform great holdout validation da...           5  \n",
       "4  reservoir computer use today reservoir compute...           3  "
      ]
     },
     "execution_count": 9,
     "metadata": {},
     "output_type": "execute_result"
    }
   ],
   "source": [
    "df.head()"
   ]
  },
  {
   "cell_type": "code",
   "execution_count": 10,
   "metadata": {},
   "outputs": [],
   "source": [
    "df.to_csv(\"Data/cleaned_data.csv\", index=False)\n",
    "\n",
    "## Now our data is in a good shape, we can start to do some analysis on it."
   ]
  }
 ],
 "metadata": {
  "kernelspec": {
   "display_name": ".venv",
   "language": "python",
   "name": "python3"
  },
  "language_info": {
   "codemirror_mode": {
    "name": "ipython",
    "version": 3
   },
   "file_extension": ".py",
   "mimetype": "text/x-python",
   "name": "python",
   "nbconvert_exporter": "python",
   "pygments_lexer": "ipython3",
   "version": "3.10.6"
  }
 },
 "nbformat": 4,
 "nbformat_minor": 2
}
