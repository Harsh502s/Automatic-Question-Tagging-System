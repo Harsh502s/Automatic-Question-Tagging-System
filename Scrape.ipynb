{
 "cells": [
  {
   "cell_type": "code",
   "execution_count": 8,
   "metadata": {},
   "outputs": [],
   "source": [
    "from bs4 import BeautifulSoup\n",
    "from requests import get\n",
    "import pandas as pd"
   ]
  },
  {
   "cell_type": "code",
   "execution_count": 6,
   "metadata": {},
   "outputs": [
    {
     "name": "stdout",
     "output_type": "stream",
     "text": [
      "['https://math.stackexchange.com/questions?tab=Votes&pagesize=50', 'https://stats.stackexchange.com/questions?tab=Votes&pagesize=50', 'https://cstheory.stackexchange.com/questions?tab=Votes&pagesize=50', 'https://dba.stackexchange.com/questions?tab=Votes&pagesize=50']\n"
     ]
    }
   ],
   "source": [
    "sites = ['math','stats','cstheory','dba']\n",
    "urls = []\n",
    "for site in sites:\n",
    "    urls.append(r'https://'+site+'.stackexchange.com/questions?tab=Votes&pagesize=50')\n",
    "    pass\n",
    "print(urls)"
   ]
  },
  {
   "cell_type": "code",
   "execution_count": 16,
   "metadata": {},
   "outputs": [
    {
     "name": "stdout",
     "output_type": "stream",
     "text": [
      "/questions/231767/what-does-the-yield-keyword-do-in-python\n"
     ]
    }
   ],
   "source": [
    "question_links = []\n",
    "\n",
    "response = get('https://stackoverflow.com/questions/tagged/python?tab=votes&page=1&pagesize=50')\n",
    "soup = BeautifulSoup(response.text, 'html.parser')\n",
    "links = soup.find('div',attrs={'id':'questions'}).find('a',attrs={'class':'s-link'})['href']\n",
    "print(links)"
   ]
  }
 ],
 "metadata": {
  "kernelspec": {
   "display_name": ".venv",
   "language": "python",
   "name": "python3"
  },
  "language_info": {
   "codemirror_mode": {
    "name": "ipython",
    "version": 3
   },
   "file_extension": ".py",
   "mimetype": "text/x-python",
   "name": "python",
   "nbconvert_exporter": "python",
   "pygments_lexer": "ipython3",
   "version": "3.10.6"
  },
  "orig_nbformat": 4
 },
 "nbformat": 4,
 "nbformat_minor": 2
}
