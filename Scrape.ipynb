{
  "cells": [
    {
      "cell_type": "code",
      "execution_count": 27,
      "metadata": {
        "id": "rHlCEJKuSDYa"
      },
      "outputs": [],
      "source": [
        "import requests\n",
        "from bs4 import BeautifulSoup\n",
        "from tqdm import tqdm\n",
        "import pandas as pd\n",
        "import numpy as np\n",
        "import time\n",
        "import lxml\n",
        "\n",
        "df = pd.read_csv('50k.csv')"
      ]
    },
    {
      "cell_type": "code",
      "execution_count": 28,
      "metadata": {
        "id": "2wduzyn4Uz_7"
      },
      "outputs": [],
      "source": [
        "ques_head = []\n",
        "ques_body = []\n",
        "ques_tags = []\n",
        "first_answer = []\n",
        "\n",
        "def scrape(link):\n",
        "    try:\n",
        "        response = requests.get(link)\n",
        "        soup = BeautifulSoup(response.content, \"lxml\")\n",
        "        try:\n",
        "            ques_h = soup.find(\"div\", attrs={\"id\": \"question-header\"}).find(\"a\").text\n",
        "            ques_head.append(ques_h)\n",
        "        except:\n",
        "            ques_h = np.nan\n",
        "            ques_head.append(ques_h)\n",
        "            pass\n",
        "\n",
        "        try:\n",
        "            ques_b = soup.find(\"div\", attrs={\"class\": \"s-prose js-post-body\"}).text\n",
        "            ques_body.append(ques_b)\n",
        "        except:\n",
        "            ques_b = np.nan\n",
        "            ques_body.append(ques_b)\n",
        "            pass\n",
        "        try:\n",
        "            ques_t = soup.find(\"div\", class_=\"d-flex ps-relative fw-wrap\").find_all(\n",
        "                \"li\", class_=\"d-inline mr4 js-post-tag-list-item\"\n",
        "            )\n",
        "            ques_t = [tag.find(\"a\").text for tag in ques_t]\n",
        "            ques_tags.append(ques_t)\n",
        "        except:\n",
        "            ques_t = np.nan\n",
        "            ques_tags.append(ques_t)\n",
        "            pass\n",
        "        try:\n",
        "            fa = (\n",
        "                soup.find(\"div\", {\"id\":\"answers\"})\n",
        "                .find(\"div\", class_=\"answer js-answer accepted-answer js-accepted-answer\")\n",
        "                .find('div', class_=\"answercell post-layout--right\")\n",
        "                .find(\"div\", class_=\"s-prose js-post-body\")\n",
        "                .find_all(\"p\")\n",
        "            )\n",
        "            fa = \"\".join([ans.text for ans in fa])\n",
        "            first_answer.append(fa)\n",
        "        except:\n",
        "            fa = np.nan\n",
        "            first_answer.append(fa)\n",
        "    except:\n",
        "        pass"
      ]
    },
    {
      "cell_type": "code",
      "execution_count": 29,
      "metadata": {
        "colab": {
          "base_uri": "https://localhost:8080/"
        },
        "id": "cZVNlZm-3o4g",
        "outputId": "432bcbcb-64eb-430d-b17b-d2c710bf543f"
      },
      "outputs": [
        {
          "name": "stderr",
          "output_type": "stream",
          "text": [
            "100%|██████████| 3/3 [00:04<00:00,  1.48s/it]\n"
          ]
        }
      ],
      "source": [
        "for i in tqdm(df['Question Links'][35000:35003]):\n",
        "  scrape(i)\n",
        "  time.sleep(0.4)"
      ]
    },
    {
      "cell_type": "code",
      "execution_count": 30,
      "metadata": {},
      "outputs": [
        {
          "data": {
            "text/html": [
              "<div>\n",
              "<style scoped>\n",
              "    .dataframe tbody tr th:only-of-type {\n",
              "        vertical-align: middle;\n",
              "    }\n",
              "\n",
              "    .dataframe tbody tr th {\n",
              "        vertical-align: top;\n",
              "    }\n",
              "\n",
              "    .dataframe thead th {\n",
              "        text-align: right;\n",
              "    }\n",
              "</style>\n",
              "<table border=\"1\" class=\"dataframe\">\n",
              "  <thead>\n",
              "    <tr style=\"text-align: right;\">\n",
              "      <th></th>\n",
              "      <th>Head</th>\n",
              "      <th>Body</th>\n",
              "      <th>Tags</th>\n",
              "      <th>First Answer</th>\n",
              "    </tr>\n",
              "  </thead>\n",
              "  <tbody>\n",
              "    <tr>\n",
              "      <th>0</th>\n",
              "      <td>Micro Average vs Macro average Performance in ...</td>\n",
              "      <td>\\nI am trying out a multiclass classification ...</td>\n",
              "      <td>[multiclass-classification, model-evaluations]</td>\n",
              "      <td>NaN</td>\n",
              "    </tr>\n",
              "    <tr>\n",
              "      <th>1</th>\n",
              "      <td>What are deconvolutional layers?</td>\n",
              "      <td>\\nI recently read Fully Convolutional Networks...</td>\n",
              "      <td>[neural-network, convolutional-neural-network,...</td>\n",
              "      <td>Deconvolution layer is a very unfortunate name...</td>\n",
              "    </tr>\n",
              "    <tr>\n",
              "      <th>2</th>\n",
              "      <td>How to set class weights for imbalanced classe...</td>\n",
              "      <td>\\nI know that there is a possibility in Keras ...</td>\n",
              "      <td>[deep-learning, classification, keras, weighte...</td>\n",
              "      <td>If you are talking about the regular case, whe...</td>\n",
              "    </tr>\n",
              "  </tbody>\n",
              "</table>\n",
              "</div>"
            ],
            "text/plain": [
              "                                                Head  \\\n",
              "0  Micro Average vs Macro average Performance in ...   \n",
              "1                   What are deconvolutional layers?   \n",
              "2  How to set class weights for imbalanced classe...   \n",
              "\n",
              "                                                Body  \\\n",
              "0  \\nI am trying out a multiclass classification ...   \n",
              "1  \\nI recently read Fully Convolutional Networks...   \n",
              "2  \\nI know that there is a possibility in Keras ...   \n",
              "\n",
              "                                                Tags  \\\n",
              "0     [multiclass-classification, model-evaluations]   \n",
              "1  [neural-network, convolutional-neural-network,...   \n",
              "2  [deep-learning, classification, keras, weighte...   \n",
              "\n",
              "                                        First Answer  \n",
              "0                                                NaN  \n",
              "1  Deconvolution layer is a very unfortunate name...  \n",
              "2  If you are talking about the regular case, whe...  "
            ]
          },
          "execution_count": 30,
          "metadata": {},
          "output_type": "execute_result"
        }
      ],
      "source": [
        "data = pd.DataFrame({'Head': ques_head, 'Body': ques_body, 'Tags': ques_tags, 'First Answer': first_answer})\n",
        "data.head(10)"
      ]
    },
    {
      "cell_type": "code",
      "execution_count": null,
      "metadata": {},
      "outputs": [],
      "source": []
    }
  ],
  "metadata": {
    "colab": {
      "provenance": []
    },
    "kernelspec": {
      "display_name": "Python 3",
      "name": "python3"
    },
    "language_info": {
      "codemirror_mode": {
        "name": "ipython",
        "version": 3
      },
      "file_extension": ".py",
      "mimetype": "text/x-python",
      "name": "python",
      "nbconvert_exporter": "python",
      "pygments_lexer": "ipython3",
      "version": "3.10.11"
    }
  },
  "nbformat": 4,
  "nbformat_minor": 0
}
