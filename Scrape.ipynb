{
 "cells": [
  {
   "cell_type": "code",
   "execution_count": 1,
   "metadata": {},
   "outputs": [],
   "source": [
    "from bs4 import BeautifulSoup\n",
    "import requests\n",
    "import pandas as pd"
   ]
  },
  {
   "cell_type": "code",
   "execution_count": 2,
   "metadata": {},
   "outputs": [
    {
     "name": "stdout",
     "output_type": "stream",
     "text": [
      "['https://math.stackexchange.com/questions?tab=Votes&pagesize=50', 'https://stats.stackexchange.com/questions?tab=Votes&pagesize=50', 'https://cstheory.stackexchange.com/questions?tab=Votes&pagesize=50', 'https://dba.stackexchange.com/questions?tab=Votes&pagesize=50']\n"
     ]
    }
   ],
   "source": [
    "sites = ['math','stats','cstheory','dba']\n",
    "urls = []\n",
    "for site in sites:\n",
    "    urls.append(r'https://'+site+'.stackexchange.com/questions?tab=Votes&pagesize=50')\n",
    "    pass\n",
    "print(urls)"
   ]
  },
  {
   "cell_type": "code",
   "execution_count": 5,
   "metadata": {},
   "outputs": [
    {
     "name": "stdout",
     "output_type": "stream",
     "text": [
      "['https://math.stackexchange.com/questions/733754/visually-stunning-math-concepts-which-are-easy-to-explain', 'https://math.stackexchange.com/questions/21199/is-frac-textrmdy-textrmdx-not-a-ratio', 'https://math.stackexchange.com/questions/379927/how-long-will-it-take-marie-to-saw-another-board-into-3-pieces', 'https://math.stackexchange.com/questions/71874/can-i-use-my-powers-for-good', 'https://math.stackexchange.com/questions/12906/the-staircase-paradox-or-why-pi-ne4', 'https://math.stackexchange.com/questions/44704/how-to-study-math-to-really-understand-it-and-have-a-healthy-lifestyle-with-free', 'https://math.stackexchange.com/questions/8337/the-basel-problem', 'https://math.stackexchange.com/questions/358423/a-proof-for-dimrt-dimr1-without-prime-ideals', 'https://math.stackexchange.com/questions/668/whats-an-intuitive-way-to-think-about-the-determinant', 'https://math.stackexchange.com/questions/216343/does-pi-contain-all-possible-number-combinations', 'https://math.stackexchange.com/questions/637728/splitting-a-sandwich-and-not-feeling-deceived', 'https://math.stackexchange.com/questions/323334/what-was-the-first-bit-of-mathematics-that-made-you-realize-that-math-is-beautif', 'https://math.stackexchange.com/questions/1681993/why-is-1-frac11-frac11-ldots-not-real', 'https://math.stackexchange.com/questions/2755/why-can-you-turn-clothing-right-side-out', 'https://math.stackexchange.com/questions/111440/examples-of-patterns-that-eventually-fail', 'https://math.stackexchange.com/questions/952466/is-there-a-bijection-of-mathbbrn-with-itself-such-that-the-forward-map-is', 'https://math.stackexchange.com/questions/11669/mathematical-difference-between-white-and-black-notes-in-a-piano', 'https://math.stackexchange.com/questions/562694/integral-int-11-frac1x-sqrt-frac1x1-x-ln-left-frac2-x22-x1', 'https://math.stackexchange.com/questions/75130/how-to-prove-that-lim-limits-x-to0-frac-sin-xx-1', 'https://math.stackexchange.com/questions/154/do-complex-numbers-really-exist', 'https://math.stackexchange.com/questions/199676/what-are-imaginary-numbers', 'https://math.stackexchange.com/questions/206890/the-egg-bizarre-behavior-of-the-roots-of-a-family-of-polynomials', 'https://math.stackexchange.com/questions/302023/best-sets-of-lecture-notes-and-articles', 'https://math.stackexchange.com/questions/54506/is-this-batman-equation-for-real', 'https://math.stackexchange.com/questions/39802/to-sum-123-cdots-to-frac112', 'https://math.stackexchange.com/questions/178940/proofs-that-every-mathematician-should-know', 'https://math.stackexchange.com/questions/30732/how-can-i-evaluate-sum-n-0-inftyn1xn', 'https://math.stackexchange.com/questions/3869/what-is-the-intuitive-relationship-between-svd-and-pca', 'https://math.stackexchange.com/questions/406099/my-sons-sum-of-some-is-beautiful-but-what-is-the-proof-or-explanation', 'https://math.stackexchange.com/questions/1002/fourier-transform-for-dummies', 'https://math.stackexchange.com/questions/617625/on-familiarity-or-how-to-avoid-going-down-the-math-rabbit-hole', 'https://math.stackexchange.com/questions/630339/pedagogy-how-to-cure-students-of-the-law-of-universal-linearity', 'https://math.stackexchange.com/questions/158924/the-ring-game-on-kx-y-z', 'https://math.stackexchange.com/questions/3852/if-ab-i-then-ba-i', 'https://math.stackexchange.com/questions/243770/can-every-proof-by-contradiction-also-be-shown-without-contradiction', 'https://math.stackexchange.com/questions/290435/find-five-positive-integers-whose-reciprocals-sum-to-1', 'https://math.stackexchange.com/questions/820686/obvious-theorems-that-are-actually-false', 'https://math.stackexchange.com/questions/11150/zero-to-the-zero-power-is-00-1', 'https://math.stackexchange.com/questions/505367/collection-of-surprising-identities-and-equations', 'https://math.stackexchange.com/questions/11/is-it-true-that-0-999999999-ldots-1', 'https://math.stackexchange.com/questions/259584/why-dont-we-define-imaginary-numbers-for-every-impossibility', 'https://math.stackexchange.com/questions/1633704/calculating-the-length-of-the-paper-on-a-toilet-paper-roll', 'https://math.stackexchange.com/questions/258736/limit-of-sequence-of-growing-matrices', 'https://math.stackexchange.com/questions/155/how-can-you-prove-that-a-function-has-no-closed-form-integral', 'https://math.stackexchange.com/questions/23312/what-is-the-importance-of-eigenvalues-eigenvectors', 'https://math.stackexchange.com/questions/250/a-challenge-by-r-p-feynman-give-counter-intuitive-theorems-that-can-be-transl', 'https://math.stackexchange.com/questions/362446/nice-examples-of-groups-which-are-not-obviously-groups', 'https://math.stackexchange.com/questions/3444/intuition-for-the-definition-of-the-gamma-function', 'https://math.stackexchange.com/questions/76491/multiple-choice-question-about-the-probability-of-a-random-answer-to-itself-bein', 'https://math.stackexchange.com/questions/158219/is-a-matrix-multiplied-with-its-transpose-something-special']\n"
     ]
    }
   ],
   "source": [
    "question_links = []\n",
    "\n",
    "response = requests.get(urls[0])\n",
    "soup = BeautifulSoup(response.text, 'html.parser')\n",
    "link = soup.find('div', attrs={'id':'questions','class':'flush-left'}).find_all('a', class_='s-link')\n",
    "for i in link:\n",
    "    question_links.append('https://math.stackexchange.com' + i['href'])\n",
    "    pass\n",
    "\n",
    "print(question_links)"
   ]
  },
  {
   "cell_type": "code",
   "execution_count": null,
   "metadata": {},
   "outputs": [],
   "source": []
  }
 ],
 "metadata": {
  "kernelspec": {
   "display_name": ".venv",
   "language": "python",
   "name": "python3"
  },
  "language_info": {
   "codemirror_mode": {
    "name": "ipython",
    "version": 3
   },
   "file_extension": ".py",
   "mimetype": "text/x-python",
   "name": "python",
   "nbconvert_exporter": "python",
   "pygments_lexer": "ipython3",
   "version": "3.10.6"
  },
  "orig_nbformat": 4
 },
 "nbformat": 4,
 "nbformat_minor": 2
}
