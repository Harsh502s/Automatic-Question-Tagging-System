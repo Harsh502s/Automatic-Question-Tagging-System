{
 "cells": [
  {
   "cell_type": "code",
   "execution_count": null,
   "metadata": {},
   "outputs": [],
   "source": [
    "import requests\n",
    "from bs4 import BeautifulSoup\n",
    "import pandas as pd\n",
    "import numpy as np\n",
    "from tqdm import tqdm\n",
    "import time"
   ]
  },
  {
   "cell_type": "code",
   "execution_count": null,
   "metadata": {},
   "outputs": [],
   "source": [
    "df = pd.read_csv('dfforharshit.csv')"
   ]
  },
  {
   "cell_type": "code",
   "execution_count": null,
   "metadata": {},
   "outputs": [],
   "source": [
    "ques_head = []\n",
    "ques_body = []\n",
    "ques_tags = []\n",
    "first_answer = []\n",
    "\n",
    "for link in tqdm(df[\"Question Links\"][0:10000]):\n",
    "    response = requests.get(link)\n",
    "    soup = BeautifulSoup(response.content, \"html.parser\")\n",
    "    try:\n",
    "        ques_h = soup.find(\"div\", attrs={\"id\": \"question-header\"}).find(\"a\").text\n",
    "        ques_head.append(ques_h)\n",
    "    except:\n",
    "        ques_h = np.nan\n",
    "        ques_head.append(ques_h)\n",
    "        pass\n",
    "\n",
    "    try:\n",
    "        ques_b = soup.find(\"div\", attrs={\"class\": \"s-prose js-post-body\"}).text\n",
    "        ques_body.append(ques_b)\n",
    "    except:\n",
    "        ques_b = np.nan\n",
    "        ques_body.append(ques_b)\n",
    "        pass\n",
    "    try:\n",
    "        ques_t = soup.find(\"div\", class_=\"d-flex ps-relative fw-wrap\").find_all(\n",
    "            \"li\", class_=\"d-inline mr4 js-post-tag-list-item\"\n",
    "        )\n",
    "        ques_t = [tag.find(\"a\").text for tag in ques_t]\n",
    "        ques_tags.append(ques_t)\n",
    "    except:\n",
    "        ques_t = np.nan\n",
    "        ques_tags.append(ques_t)\n",
    "        pass\n",
    "    try:\n",
    "        fa = (\n",
    "            soup.find(\"div\", id=\"answers\")\n",
    "            .find(\"div\", class_=\"answer js-answer\")\n",
    "            .find(\"div\", class_=\"s-prose js-post-body\")\n",
    "            .text\n",
    "        )\n",
    "        first_answer.append(fa)\n",
    "    except:\n",
    "        fa = np.nan\n",
    "        first_answer.append(fa)\n",
    "        pass"
   ]
  },
  {
   "cell_type": "code",
   "execution_count": null,
   "metadata": {},
   "outputs": [],
   "source": [
    "data1 = pd.DataFrame(list(zip(ques_head,ques_body,ques_tags,first_answer)),columns=['Head','Body','Tag','Answer'])"
   ]
  },
  {
   "cell_type": "code",
   "execution_count": null,
   "metadata": {},
   "outputs": [],
   "source": [
    "data1.to_csv('data1.csv',index=False)"
   ]
  }
 ],
 "metadata": {
  "kernelspec": {
   "display_name": ".venv",
   "language": "python",
   "name": "python3"
  },
  "language_info": {
   "codemirror_mode": {
    "name": "ipython",
    "version": 3
   },
   "file_extension": ".py",
   "mimetype": "text/x-python",
   "name": "python",
   "nbconvert_exporter": "python",
   "pygments_lexer": "ipython3",
   "version": "3.10.4"
  },
  "orig_nbformat": 4
 },
 "nbformat": 4,
 "nbformat_minor": 2
}
