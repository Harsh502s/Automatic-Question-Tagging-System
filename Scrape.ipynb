{
 "cells": [
  {
   "cell_type": "code",
   "execution_count": null,
   "metadata": {},
   "outputs": [],
   "source": [
    "from bs4 import BeautifulSoup\n",
    "import requests\n",
    "import pandas as pd\n",
    "from tqdm import tqdm\n",
    "\n",
    "headers = {'User-Agent': 'Mozilla/5.0'}"
   ]
  },
  {
   "cell_type": "code",
   "execution_count": null,
   "metadata": {},
   "outputs": [],
   "source": [
    "site = 'https://stats.stackexchange.com/questions?tab=Votes'\n",
    "noofpages = []\n",
    "response = requests.get(site,headers=headers)\n",
    "soup = BeautifulSoup(response.text, 'html.parser')\n",
    "noofpages = int(soup.find('div', class_= 's-pagination site65 themed pager float-left').find_all('a')[-2].text)"
   ]
  },
  {
   "cell_type": "code",
   "execution_count": null,
   "metadata": {},
   "outputs": [],
   "source": [
    "question_links = []\n",
    "for i in tqdm(range(1,int(noofpages)+1)):\n",
    "    if i == 1:\n",
    "        url = 'https://stats.stackexchange.com/questions?tab=Votes&pagesize=50'\n",
    "    else:\n",
    "        url = f'https://stats.stackexchange.com/questions?tab=Votes&page={i}'\n",
    "    page = requests.get(url,headers=headers)\n",
    "    soup = BeautifulSoup(page.text, 'html.parser')\n",
    "    for link in soup.find('div', attrs= {'class':'flush-left','id':'questions'}).find_all('a', attrs = {'class':'s-link'}):\n",
    "        question_links.append(link.get('href'))"
   ]
  },
  {
   "cell_type": "code",
   "execution_count": null,
   "metadata": {},
   "outputs": [],
   "source": []
  }
 ],
 "metadata": {
  "kernelspec": {
   "display_name": ".venv",
   "language": "python",
   "name": "python3"
  },
  "language_info": {
   "codemirror_mode": {
    "name": "ipython",
    "version": 3
   },
   "file_extension": ".py",
   "mimetype": "text/x-python",
   "name": "python",
   "nbconvert_exporter": "python",
   "pygments_lexer": "ipython3",
   "version": "3.10.6"
  },
  "orig_nbformat": 4
 },
 "nbformat": 4,
 "nbformat_minor": 2
}
