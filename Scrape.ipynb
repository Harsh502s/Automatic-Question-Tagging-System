{
 "cells": [
  {
   "cell_type": "code",
   "execution_count": 1,
   "metadata": {},
   "outputs": [],
   "source": [
    "from bs4 import BeautifulSoup\n",
    "import requests\n",
    "import pandas as pd"
   ]
  },
  {
   "cell_type": "code",
   "execution_count": 2,
   "metadata": {},
   "outputs": [
    {
     "name": "stdout",
     "output_type": "stream",
     "text": [
      "['https://math.stackexchange.com/questions?tab=Votes&pagesize=50', 'https://stats.stackexchange.com/questions?tab=Votes&pagesize=50', 'https://cstheory.stackexchange.com/questions?tab=Votes&pagesize=50', 'https://dba.stackexchange.com/questions?tab=Votes&pagesize=50']\n"
     ]
    }
   ],
   "source": [
    "sites = ['math','stats','cstheory','dba']\n",
    "urls = []\n",
    "for site in sites:\n",
    "    urls.append(r'https://'+site+'.stackexchange.com/questions?tab=Votes&pagesize=50')\n",
    "    pass\n",
    "print(urls)"
   ]
  },
  {
   "cell_type": "code",
   "execution_count": 3,
   "metadata": {},
   "outputs": [
    {
     "name": "stdout",
     "output_type": "stream",
     "text": [
      "https://math.stackexchange.com/questions/733754/visually-stunning-math-concepts-which-are-easy-to-explain\n"
     ]
    }
   ],
   "source": [
    "question_links = []\n",
    "\n",
    "response = requests.get(urls[0])\n",
    "soup = BeautifulSoup(response.text, 'html.parser')\n",
    "link = soup.find_all('a', class_='s-link')\n",
    "for i in link:\n",
    "    question_links.append('https://math.stackexchange.com' + i['href'])\n",
    "    pass\n",
    "\n",
    "print(question_links[1])"
   ]
  },
  {
   "cell_type": "code",
   "execution_count": null,
   "metadata": {},
   "outputs": [],
   "source": []
  }
 ],
 "metadata": {
  "kernelspec": {
   "display_name": ".venv",
   "language": "python",
   "name": "python3"
  },
  "language_info": {
   "codemirror_mode": {
    "name": "ipython",
    "version": 3
   },
   "file_extension": ".py",
   "mimetype": "text/x-python",
   "name": "python",
   "nbconvert_exporter": "python",
   "pygments_lexer": "ipython3",
   "version": "3.10.6"
  },
  "orig_nbformat": 4
 },
 "nbformat": 4,
 "nbformat_minor": 2
}
