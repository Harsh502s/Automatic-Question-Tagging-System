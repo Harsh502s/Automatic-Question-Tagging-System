{
 "cells": [
  {
   "cell_type": "code",
   "execution_count": null,
   "metadata": {},
   "outputs": [],
   "source": [
    "from bs4 import BeautifulSoup\n",
    "import requests\n",
    "import pandas as pd\n",
    "from tqdm import tqdm\n",
    "import concurrent.futures as cf\n",
    "import multiprocessing as mp\n",
    "\n",
    "headers = {'User-Agent': 'Mozilla/5.0 (Windows NT 10.0; Win64; x64) AppleWebKit/537.36 (KHTML, like Gecko) Chrome/115.0.0.0 Safari/537.36'}"
   ]
  },
  {
   "cell_type": "code",
   "execution_count": null,
   "metadata": {},
   "outputs": [],
   "source": [
    "site = 'https://stats.stackexchange.com/questions?tab=Votes'\n",
    "noofpages = []\n",
    "response = requests.get(site)\n",
    "soup = BeautifulSoup(response.text, 'html.parser')\n",
    "noofpages = int(soup.find('div', class_= 's-pagination site65 themed pager float-left').find_all('a')[-2].text)"
   ]
  },
  {
   "cell_type": "code",
   "execution_count": null,
   "metadata": {},
   "outputs": [],
   "source": [
    "noofpages"
   ]
  },
  {
   "cell_type": "code",
   "execution_count": null,
   "metadata": {},
   "outputs": [],
   "source": [
    "def scrape():\n",
    "    question_links = []\n",
    "    for i in tqdm(range(1,int(noofpages)+1)):\n",
    "        if i == 1:\n",
    "            url = 'https://stats.stackexchange.com/questions?tab=Votes'\n",
    "        else:\n",
    "            url = f'https://stats.stackexchange.com/questions?tab=Votes&page={i}'\n",
    "        page = requests.get(url,headers=headers)\n",
    "        soup = BeautifulSoup(page.text, 'html.parser')\n",
    "        for link in soup.find('div', attrs= {'class':'flush-left','id':'questions'}).find_all('a', attrs = {'class':'s-link'}):\n",
    "            question_links.append(link.get('href'))\n",
    "    return pd.DataFrame(question_links,columns=['Question Links'])"
   ]
  },
  {
   "cell_type": "code",
   "execution_count": null,
   "metadata": {},
   "outputs": [],
   "source": [
    "def scrape_page(url):\n",
    "    page = requests.get(url, headers=headers)\n",
    "    soup = BeautifulSoup(page.text, 'html.parser')\n",
    "    return [link.get('href') for link in soup.find('div', attrs={'class': 'flush-left', 'id': 'questions'}).find_all('a', attrs={'class': 's-link'})]\n",
    "\n",
    "def scrape(noofpages):\n",
    "    question_links = []\n",
    "    urls = []\n",
    "    base_url = 'https://stats.stackexchange.com/questions?tab=Votes'\n",
    "    \n",
    "    with cf.ThreadPoolExecutor(max_workers=mp.cpu_count()) as executor:\n",
    "        for i in range(1, int(noofpages) + 1):\n",
    "            if i == 1:\n",
    "                urls.append(base_url.format(''))\n",
    "            else:\n",
    "                urls.append(base_url.format(f'&page={i}'))\n",
    "        \n",
    "        # Submit scraping tasks to the ThreadPoolExecutor\n",
    "        future_to_url = {executor.submit(scrape_page, url): url for url in urls}\n",
    "        \n",
    "        # Process the completed tasks\n",
    "        for future in cf.as_completed(future_to_url):\n",
    "            url = future_to_url[future]\n",
    "            try:\n",
    "                result = future.result()\n",
    "                question_links.extend(result)\n",
    "            except Exception as e:\n",
    "                print(f\"Error while scraping {url}: {e}\")\n",
    "\n",
    "    return pd.DataFrame(question_links, columns=['Question Links'])\n"
   ]
  },
  {
   "cell_type": "code",
   "execution_count": null,
   "metadata": {},
   "outputs": [],
   "source": [
    "# Replace this with the number of pages you want to scrape\n",
    "df = scrape(5)\n",
    "print(df)\n"
   ]
  },
  {
   "cell_type": "code",
   "execution_count": null,
   "metadata": {},
   "outputs": [],
   "source": []
  }
 ],
 "metadata": {
  "kernelspec": {
   "display_name": ".venv",
   "language": "python",
   "name": "python3"
  },
  "language_info": {
   "codemirror_mode": {
    "name": "ipython",
    "version": 3
   },
   "file_extension": ".py",
   "mimetype": "text/x-python",
   "name": "python",
   "nbconvert_exporter": "python",
   "pygments_lexer": "ipython3",
   "version": "3.10.4"
  },
  "orig_nbformat": 4
 },
 "nbformat": 4,
 "nbformat_minor": 2
}
