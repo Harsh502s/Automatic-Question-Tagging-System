{
  "cells": [
    {
      "cell_type": "code",
      "execution_count": 1,
      "metadata": {
        "id": "rHlCEJKuSDYa"
      },
      "outputs": [],
      "source": [
        "import requests\n",
        "from bs4 import BeautifulSoup\n",
        "from tqdm import tqdm\n",
        "import random\n",
        "import concurrent.futures\n",
        "import multiprocessing as mp\n",
        "import pandas as pd\n",
        "import numpy as np\n",
        "import time\n",
        "import lxml\n",
        "\n",
        "df = pd.read_csv('50k.csv')"
      ]
    },
    {
      "cell_type": "code",
      "execution_count": 2,
      "metadata": {
        "id": "2wduzyn4Uz_7"
      },
      "outputs": [],
      "source": [
        "ques_head = []\n",
        "ques_body = []\n",
        "ques_tags = []\n",
        "first_answer = []\n",
        "\n",
        "def scrape(link):\n",
        "    try:\n",
        "        response = requests.get(link)\n",
        "        soup = BeautifulSoup(response.content, \"lxml\")\n",
        "        try:\n",
        "            ques_h = soup.find(\"div\", attrs={\"id\": \"question-header\"}).find(\"a\").text\n",
        "            ques_head.append(ques_h)\n",
        "        except:\n",
        "            ques_h = np.nan\n",
        "            ques_head.append(ques_h)\n",
        "            pass\n",
        "\n",
        "        try:\n",
        "            ques_b = soup.find(\"div\", attrs={\"class\": \"s-prose js-post-body\"}).text\n",
        "            ques_body.append(ques_b)\n",
        "        except:\n",
        "            ques_b = np.nan\n",
        "            ques_body.append(ques_b)\n",
        "            pass\n",
        "        try:\n",
        "            ques_t = soup.find(\"div\", class_=\"d-flex ps-relative fw-wrap\").find_all(\n",
        "                \"li\", class_=\"d-inline mr4 js-post-tag-list-item\"\n",
        "            )\n",
        "            ques_t = [tag.find(\"a\").text for tag in ques_t]\n",
        "            ques_tags.append(ques_t)\n",
        "        except:\n",
        "            ques_t = np.nan\n",
        "            ques_tags.append(ques_t)\n",
        "            pass\n",
        "        try:\n",
        "            fa = (\n",
        "                soup.find(\"div\", {\"id\":\"answers\"})\n",
        "                .find(\"div\", class_=\"answer js-answer accepted-answer js-accepted-answer\")\n",
        "                .find('div', class_=\"answercell post-layout--right\")\n",
        "                .find(\"div\", class_=\"s-prose js-post-body\")\n",
        "                .find_all(\"p\")\n",
        "            )\n",
        "            fa = \"\".join([ans.text for ans in fa])\n",
        "            first_answer.append(fa)\n",
        "        except:\n",
        "            fa = np.nan\n",
        "            first_answer.append(fa)\n",
        "    except:\n",
        "        pass"
      ]
    },
    {
      "cell_type": "code",
      "execution_count": 3,
      "metadata": {
        "colab": {
          "base_uri": "https://localhost:8080/"
        },
        "id": "cZVNlZm-3o4g",
        "outputId": "432bcbcb-64eb-430d-b17b-d2c710bf543f"
      },
      "outputs": [
        {
          "name": "stderr",
          "output_type": "stream",
          "text": [
            "100%|██████████| 1000/1000 [46:05<00:00,  2.77s/it] \n"
          ]
        }
      ],
      "source": [
        "for i in tqdm(df['Question Links'][9000:10000]):\n",
        "  scrape(i)\n",
        "  time.sleep(0.4)"
      ]
    },
    {
      "cell_type": "code",
      "execution_count": 4,
      "metadata": {
        "id": "-Q4P0-4AhC1J"
      },
      "outputs": [],
      "source": [
        "data = pd.DataFrame({'Head': ques_head, 'Body': ques_body, 'Tags': ques_tags, 'First Answer': first_answer})\n",
        "data.to_csv('data10.csv', index=False)"
      ]
    }
  ],
  "metadata": {
    "colab": {
      "provenance": []
    },
    "kernelspec": {
      "display_name": "Python 3",
      "name": "python3"
    },
    "language_info": {
      "codemirror_mode": {
        "name": "ipython",
        "version": 3
      },
      "file_extension": ".py",
      "mimetype": "text/x-python",
      "name": "python",
      "nbconvert_exporter": "python",
      "pygments_lexer": "ipython3",
      "version": "3.10.11"
    }
  },
  "nbformat": 4,
  "nbformat_minor": 0
}
