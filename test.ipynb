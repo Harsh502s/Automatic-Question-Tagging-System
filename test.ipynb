{
 "cells": [
  {
   "cell_type": "code",
   "execution_count": 1,
   "metadata": {},
   "outputs": [],
   "source": [
    "import pandas as pd\n",
    "\n",
    "df = pd.read_csv('question_links.csv')"
   ]
  },
  {
   "cell_type": "code",
   "execution_count": 4,
   "metadata": {},
   "outputs": [],
   "source": [
    "dfforpoorvi = df.iloc[0:80000,:]\n",
    "dfforpoorvi.to_csv('dfforpoorvi.csv',index=False)\n",
    "dfforsam = df.iloc[80000:160000,:]\n",
    "dfforsam.to_csv('dfforsam.csv',index=False)\n",
    "dfforharshit = df.iloc[160000:,:]\n",
    "dfforharshit.to_csv('dfforharshit.csv',index=False)"
   ]
  },
  {
   "cell_type": "code",
   "execution_count": 5,
   "metadata": {},
   "outputs": [
    {
     "name": "stdout",
     "output_type": "stream",
     "text": [
      "80000\n",
      "80000\n",
      "103193\n"
     ]
    }
   ],
   "source": [
    "print(len(dfforpoorvi['Question Links']))\n",
    "print(len(dfforsam['Question Links']))\n",
    "print(len(dfforharshit['Question Links']))"
   ]
  },
  {
   "cell_type": "code",
   "execution_count": null,
   "metadata": {},
   "outputs": [],
   "source": []
  }
 ],
 "metadata": {
  "kernelspec": {
   "display_name": ".venv",
   "language": "python",
   "name": "python3"
  },
  "language_info": {
   "codemirror_mode": {
    "name": "ipython",
    "version": 3
   },
   "file_extension": ".py",
   "mimetype": "text/x-python",
   "name": "python",
   "nbconvert_exporter": "python",
   "pygments_lexer": "ipython3",
   "version": "3.10.4"
  },
  "orig_nbformat": 4
 },
 "nbformat": 4,
 "nbformat_minor": 2
}
