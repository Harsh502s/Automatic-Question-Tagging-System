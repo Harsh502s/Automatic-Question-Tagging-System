{
 "cells": [
  {
   "cell_type": "code",
   "execution_count": 2,
   "metadata": {},
   "outputs": [],
   "source": [
    "from keybert import KeyBERT\n",
    "import pandas as pd\n",
    "\n",
    "documents = pd.read_csv('Data/cleaned_data.csv')['Text'].tolist()\n",
    "\n",
    "model = KeyBERT(model='all-MiniLM-L6-v2')"
   ]
  },
  {
   "cell_type": "code",
   "execution_count": 5,
   "metadata": {},
   "outputs": [
    {
     "data": {
      "text/plain": [
       "[('tumor segmentation', 0.5784),\n",
       " ('image model', 0.5726),\n",
       " ('dataset brain', 0.535),\n",
       " ('vision locate', 0.4819),\n",
       " ('layer challenge', 0.4611),\n",
       " ('cv highlight', 0.3664),\n",
       " ('depth', 0.3547),\n",
       " ('stack model', 0.3533),\n",
       " ('combine slice', 0.2535),\n",
       " ('library', 0.2445)]"
      ]
     },
     "execution_count": 5,
     "metadata": {},
     "output_type": "execute_result"
    }
   ],
   "source": [
    "model.extract_keywords(\n",
    "    documents[0],\n",
    "    keyphrase_ngram_range=(1, 2),\n",
    "    stop_words=\"english\",\n",
    "    top_n=10,\n",
    "    use_mmr=True,\n",
    "    use_maxsum=True,\n",
    "    diversity=0.5,\n",
    "    seed_keywords=[\n",
    "        \"machine-learning\",\n",
    "        \"r\",\n",
    "        \"regression\",\n",
    "        \"deep-learning\",\n",
    "        \"neural-networks\",\n",
    "        \"data-request\",\n",
    "        \"python\",\n",
    "        \"reinforcement-learning\",\n",
    "        \"classification\",\n",
    "        \"time-series\",\n",
    "        \"probability\",\n",
    "        \"neural-network\",\n",
    "        \"distributions\",\n",
    "        \"bayesian\",\n",
    "        \"hypothesis-testing\",\n",
    "        \"keras\",\n",
    "        \"mathematical-statistics\",\n",
    "        \"scikit-learn\",\n",
    "        \"logistic\",\n",
    "        \"convolutional-neural-networks\",\n",
    "        \"clustering\",\n",
    "        \"tensorflow\",\n",
    "        \"terminology\",\n",
    "        \"nlp\",\n",
    "        \"correlation\",\n",
    "        \"self-study\",\n",
    "        \"normal-distribution\",\n",
    "        \"geospatial\",\n",
    "        \"cross-validation\",\n",
    "        \"optimization\",\n",
    "        \"random-forest\",\n",
    "        \"mixed-model\",\n",
    "        \"data-mining\",\n",
    "        \"feature-selection\",\n",
    "        \"pca\",\n",
    "        \"references\",\n",
    "        \"computer-vision\",\n",
    "        \"data-visualization\",\n",
    "        \"confidence-interval\",\n",
    "        \"generalized-linear-model\",\n",
    "        \"variance\",\n",
    "        \"natural-language-processing\",\n",
    "        \"dataset\",\n",
    "        \"svm\",\n",
    "        \"training\",\n",
    "        \"maximum-likelihood\",\n",
    "        \"statistical-significance\",\n",
    "        \"gradient-descent\",\n",
    "        \"multiple-regression\",\n",
    "        \"estimation\",\n",
    "    ],\n",
    ")"
   ]
  }
 ],
 "metadata": {
  "kernelspec": {
   "display_name": ".venv",
   "language": "python",
   "name": "python3"
  },
  "language_info": {
   "codemirror_mode": {
    "name": "ipython",
    "version": 3
   },
   "file_extension": ".py",
   "mimetype": "text/x-python",
   "name": "python",
   "nbconvert_exporter": "python",
   "pygments_lexer": "ipython3",
   "version": "3.10.11"
  }
 },
 "nbformat": 4,
 "nbformat_minor": 2
}
