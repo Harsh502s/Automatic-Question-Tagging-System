{
 "cells": [
  {
   "cell_type": "markdown",
   "metadata": {},
   "source": [
    "# Text Cleaning Notebook"
   ]
  },
  {
   "cell_type": "code",
   "execution_count": 37,
   "metadata": {},
   "outputs": [],
   "source": [
    "import pandas as pd\n",
    "import numpy as np\n",
    "import regex as re\n",
    "import warnings\n",
    "warnings.filterwarnings('ignore')"
   ]
  },
  {
   "cell_type": "code",
   "execution_count": 38,
   "metadata": {},
   "outputs": [],
   "source": [
    "df = pd.read_csv('Data/cleaned_data_part1.csv')"
   ]
  },
  {
   "cell_type": "code",
   "execution_count": 39,
   "metadata": {},
   "outputs": [
    {
     "data": {
      "text/html": [
       "<div>\n",
       "<style scoped>\n",
       "    .dataframe tbody tr th:only-of-type {\n",
       "        vertical-align: middle;\n",
       "    }\n",
       "\n",
       "    .dataframe tbody tr th {\n",
       "        vertical-align: top;\n",
       "    }\n",
       "\n",
       "    .dataframe thead th {\n",
       "        text-align: right;\n",
       "    }\n",
       "</style>\n",
       "<table border=\"1\" class=\"dataframe\">\n",
       "  <thead>\n",
       "    <tr style=\"text-align: right;\">\n",
       "      <th></th>\n",
       "      <th>Head</th>\n",
       "      <th>Body</th>\n",
       "      <th>Tags</th>\n",
       "      <th>First Answer</th>\n",
       "    </tr>\n",
       "  </thead>\n",
       "  <tbody>\n",
       "    <tr>\n",
       "      <th>22837</th>\n",
       "      <td>Relating $f(\\mathrm{Var}[X])$ to $\\mathrm{Var}...</td>\n",
       "      <td>\\nThe arrival of photons at a pixel in an imag...</td>\n",
       "      <td>['variance', 'poisson-distribution', 'probabil...</td>\n",
       "      <td>There is no relation between the two quantitie...</td>\n",
       "    </tr>\n",
       "    <tr>\n",
       "      <th>46969</th>\n",
       "      <td>Open/Public Data Sources For Land-Cover/Vegeta...</td>\n",
       "      <td>\\nThe title is quite clear: seeking land-cover...</td>\n",
       "      <td>['geospatial', 'canada', 'land']</td>\n",
       "      <td>No Answer</td>\n",
       "    </tr>\n",
       "    <tr>\n",
       "      <th>37125</th>\n",
       "      <td>Doesn't over(/under)sampling an imbalanced dat...</td>\n",
       "      <td>\\nI'm reading a lot about how to use different...</td>\n",
       "      <td>['classification', 'class-imbalance', 'imbalan...</td>\n",
       "      <td>Yes, the classifier will expect the relative c...</td>\n",
       "    </tr>\n",
       "    <tr>\n",
       "      <th>665</th>\n",
       "      <td>Mask R-CNN: how is the inference done?</td>\n",
       "      <td>\\r\\nAccording to the Mask R-CNN paper and the ...</td>\n",
       "      <td>['deep-learning', 'image-segmentation', 'insta...</td>\n",
       "      <td>No Answer</td>\n",
       "    </tr>\n",
       "    <tr>\n",
       "      <th>396</th>\n",
       "      <td>Examples of self-explainable models used in NL...</td>\n",
       "      <td>\\r\\nI am looking for all the methods used in N...</td>\n",
       "      <td>['natural-language-processing', 'explainable-ai']</td>\n",
       "      <td>No Answer</td>\n",
       "    </tr>\n",
       "  </tbody>\n",
       "</table>\n",
       "</div>"
      ],
      "text/plain": [
       "                                                    Head  \\\n",
       "22837  Relating $f(\\mathrm{Var}[X])$ to $\\mathrm{Var}...   \n",
       "46969  Open/Public Data Sources For Land-Cover/Vegeta...   \n",
       "37125  Doesn't over(/under)sampling an imbalanced dat...   \n",
       "665               Mask R-CNN: how is the inference done?   \n",
       "396    Examples of self-explainable models used in NL...   \n",
       "\n",
       "                                                    Body  \\\n",
       "22837  \\nThe arrival of photons at a pixel in an imag...   \n",
       "46969  \\nThe title is quite clear: seeking land-cover...   \n",
       "37125  \\nI'm reading a lot about how to use different...   \n",
       "665    \\r\\nAccording to the Mask R-CNN paper and the ...   \n",
       "396    \\r\\nI am looking for all the methods used in N...   \n",
       "\n",
       "                                                    Tags  \\\n",
       "22837  ['variance', 'poisson-distribution', 'probabil...   \n",
       "46969                   ['geospatial', 'canada', 'land']   \n",
       "37125  ['classification', 'class-imbalance', 'imbalan...   \n",
       "665    ['deep-learning', 'image-segmentation', 'insta...   \n",
       "396    ['natural-language-processing', 'explainable-ai']   \n",
       "\n",
       "                                            First Answer  \n",
       "22837  There is no relation between the two quantitie...  \n",
       "46969                                          No Answer  \n",
       "37125  Yes, the classifier will expect the relative c...  \n",
       "665                                            No Answer  \n",
       "396                                            No Answer  "
      ]
     },
     "execution_count": 39,
     "metadata": {},
     "output_type": "execute_result"
    }
   ],
   "source": [
    "df.sample(5)"
   ]
  },
  {
   "cell_type": "code",
   "execution_count": 40,
   "metadata": {},
   "outputs": [
    {
     "data": {
      "text/plain": [
       "'Is there a function in python to create a matched pairs dataset?\\ne.g.\\ndf_matched = construct_matched_pairs(df_users_who_did_something,\\n                                     df_all_other_users,\\n                                     ..)\\n\\nhttps://en.wikipedia.org/wiki/Matching_(statistics)'"
      ]
     },
     "execution_count": 40,
     "metadata": {},
     "output_type": "execute_result"
    }
   ],
   "source": [
    "df.iloc[17957,:]['Body'].strip()"
   ]
  },
  {
   "cell_type": "code",
   "execution_count": 43,
   "metadata": {},
   "outputs": [],
   "source": [
    "def clean_text(text):\n",
    "    text = text.strip()\n",
    "    text = text.lower()\n",
    "    text = re.sub(r'[\\\\].', '', text)\n",
    "    text = re.sub(r'[^A-Za-z?]', ' ', text)\n",
    "    text = re.sub(r'\\s+', ' ', text)\n",
    "    return text\n",
    "\n",
    "ct = clean_text(df.iloc[17957,:]['Body'])"
   ]
  },
  {
   "cell_type": "code",
   "execution_count": 44,
   "metadata": {},
   "outputs": [
    {
     "data": {
      "text/plain": [
       "'is there a function in python to create a matched pairs dataset? e g df matched construct matched pairs df users who did something df all other users https en wikipedia org wiki matching statistics '"
      ]
     },
     "execution_count": 44,
     "metadata": {},
     "output_type": "execute_result"
    }
   ],
   "source": [
    "ct"
   ]
  }
 ],
 "metadata": {
  "kernelspec": {
   "display_name": ".venv",
   "language": "python",
   "name": "python3"
  },
  "language_info": {
   "codemirror_mode": {
    "name": "ipython",
    "version": 3
   },
   "file_extension": ".py",
   "mimetype": "text/x-python",
   "name": "python",
   "nbconvert_exporter": "python",
   "pygments_lexer": "ipython3",
   "version": "3.10.6"
  },
  "orig_nbformat": 4
 },
 "nbformat": 4,
 "nbformat_minor": 2
}
