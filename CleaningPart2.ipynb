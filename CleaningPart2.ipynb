{
 "cells": [
  {
   "cell_type": "markdown",
   "metadata": {},
   "source": [
    "# Text Cleaning Notebook"
   ]
  },
  {
   "cell_type": "code",
   "execution_count": 18,
   "metadata": {},
   "outputs": [],
   "source": [
    "import pandas as pd\n",
    "import numpy as np\n",
    "import regex as re\n",
    "from ast import literal_eval\n",
    "import warnings\n",
    "warnings.filterwarnings('ignore')"
   ]
  },
  {
   "cell_type": "code",
   "execution_count": 10,
   "metadata": {},
   "outputs": [],
   "source": [
    "df = pd.read_csv('Data/cleaned_data_part1.csv')"
   ]
  },
  {
   "cell_type": "code",
   "execution_count": 11,
   "metadata": {},
   "outputs": [
    {
     "data": {
      "text/html": [
       "<div>\n",
       "<style scoped>\n",
       "    .dataframe tbody tr th:only-of-type {\n",
       "        vertical-align: middle;\n",
       "    }\n",
       "\n",
       "    .dataframe tbody tr th {\n",
       "        vertical-align: top;\n",
       "    }\n",
       "\n",
       "    .dataframe thead th {\n",
       "        text-align: right;\n",
       "    }\n",
       "</style>\n",
       "<table border=\"1\" class=\"dataframe\">\n",
       "  <thead>\n",
       "    <tr style=\"text-align: right;\">\n",
       "      <th></th>\n",
       "      <th>Head</th>\n",
       "      <th>Body</th>\n",
       "      <th>Tags</th>\n",
       "      <th>First Answer</th>\n",
       "    </tr>\n",
       "  </thead>\n",
       "  <tbody>\n",
       "    <tr>\n",
       "      <th>1462</th>\n",
       "      <td>Is it possible or useful to perform quantizati...</td>\n",
       "      <td>\\r\\nHaving done some online searches on the to...</td>\n",
       "      <td>['neural-networks', 'training', 'optimization']</td>\n",
       "      <td>No Answer</td>\n",
       "    </tr>\n",
       "    <tr>\n",
       "      <th>34472</th>\n",
       "      <td>Recognize a grammar in a sequence of fuzzy tokens</td>\n",
       "      <td>\\nI have text documents which contain mainly l...</td>\n",
       "      <td>['data-mining', 'clustering', 'text-mining', '...</td>\n",
       "      <td>No Answer</td>\n",
       "    </tr>\n",
       "    <tr>\n",
       "      <th>22641</th>\n",
       "      <td>Reporting the effect of a predictor in a logis...</td>\n",
       "      <td>\\nI have been playing around with using restri...</td>\n",
       "      <td>['r', 'regression', 'logistic', 'splines', 're...</td>\n",
       "      <td>My course notes describe the components of a r...</td>\n",
       "    </tr>\n",
       "    <tr>\n",
       "      <th>43849</th>\n",
       "      <td>difference between model-based boosting and gr...</td>\n",
       "      <td>\\nWhat exactly is the difference between model...</td>\n",
       "      <td>['boosting']</td>\n",
       "      <td>No Answer</td>\n",
       "    </tr>\n",
       "    <tr>\n",
       "      <th>37477</th>\n",
       "      <td>Combining 'class_weight' with SMOTE</td>\n",
       "      <td>\\nThis might sound a weird question, but I cou...</td>\n",
       "      <td>['scikit-learn', 'multiclass-classification', ...</td>\n",
       "      <td>I tried different classifiers using a combinat...</td>\n",
       "    </tr>\n",
       "  </tbody>\n",
       "</table>\n",
       "</div>"
      ],
      "text/plain": [
       "                                                    Head  \\\n",
       "1462   Is it possible or useful to perform quantizati...   \n",
       "34472  Recognize a grammar in a sequence of fuzzy tokens   \n",
       "22641  Reporting the effect of a predictor in a logis...   \n",
       "43849  difference between model-based boosting and gr...   \n",
       "37477                Combining 'class_weight' with SMOTE   \n",
       "\n",
       "                                                    Body  \\\n",
       "1462   \\r\\nHaving done some online searches on the to...   \n",
       "34472  \\nI have text documents which contain mainly l...   \n",
       "22641  \\nI have been playing around with using restri...   \n",
       "43849  \\nWhat exactly is the difference between model...   \n",
       "37477  \\nThis might sound a weird question, but I cou...   \n",
       "\n",
       "                                                    Tags  \\\n",
       "1462     ['neural-networks', 'training', 'optimization']   \n",
       "34472  ['data-mining', 'clustering', 'text-mining', '...   \n",
       "22641  ['r', 'regression', 'logistic', 'splines', 're...   \n",
       "43849                                       ['boosting']   \n",
       "37477  ['scikit-learn', 'multiclass-classification', ...   \n",
       "\n",
       "                                            First Answer  \n",
       "1462                                           No Answer  \n",
       "34472                                          No Answer  \n",
       "22641  My course notes describe the components of a r...  \n",
       "43849                                          No Answer  \n",
       "37477  I tried different classifiers using a combinat...  "
      ]
     },
     "execution_count": 11,
     "metadata": {},
     "output_type": "execute_result"
    }
   ],
   "source": [
    "df.sample(5)"
   ]
  },
  {
   "cell_type": "code",
   "execution_count": 12,
   "metadata": {},
   "outputs": [],
   "source": [
    "def clean_text(text):\n",
    "    \n",
    "    text = text.strip()\n",
    "    text = text.lower()\n",
    "    text = re.sub(r'[\\\\].', '', text)\n",
    "    text = re.sub(r'[^A-Za-z?]', ' ', text)\n",
    "    text = re.sub(r'\\s+', ' ', text)\n",
    "\n",
    "    return text\n",
    "\n",
    "df['Body'] = df['Body'].apply(clean_text)"
   ]
  },
  {
   "cell_type": "code",
   "execution_count": 13,
   "metadata": {},
   "outputs": [
    {
     "data": {
      "text/html": [
       "<div>\n",
       "<style scoped>\n",
       "    .dataframe tbody tr th:only-of-type {\n",
       "        vertical-align: middle;\n",
       "    }\n",
       "\n",
       "    .dataframe tbody tr th {\n",
       "        vertical-align: top;\n",
       "    }\n",
       "\n",
       "    .dataframe thead th {\n",
       "        text-align: right;\n",
       "    }\n",
       "</style>\n",
       "<table border=\"1\" class=\"dataframe\">\n",
       "  <thead>\n",
       "    <tr style=\"text-align: right;\">\n",
       "      <th></th>\n",
       "      <th>Head</th>\n",
       "      <th>Body</th>\n",
       "      <th>Tags</th>\n",
       "      <th>First Answer</th>\n",
       "    </tr>\n",
       "  </thead>\n",
       "  <tbody>\n",
       "    <tr>\n",
       "      <th>0</th>\n",
       "      <td>Brain Segmentation To 3D Model</td>\n",
       "      <td>my goal is to take a dataset of brain tumor se...</td>\n",
       "      <td>['computer-vision', 'python']</td>\n",
       "      <td>No Answer</td>\n",
       "    </tr>\n",
       "    <tr>\n",
       "      <th>1</th>\n",
       "      <td>Active Learning regression with Random Forest</td>\n",
       "      <td>i have a dataset of about k points and i am tr...</td>\n",
       "      <td>['machine-learning', 'regression', 'uncertaint...</td>\n",
       "      <td>No Answer</td>\n",
       "    </tr>\n",
       "    <tr>\n",
       "      <th>2</th>\n",
       "      <td>Comparing Reinforcement Learning models</td>\n",
       "      <td>i am currently completing my thesis on optimis...</td>\n",
       "      <td>['reinforcement-learning', 'policy-gradients',...</td>\n",
       "      <td>No Answer</td>\n",
       "    </tr>\n",
       "    <tr>\n",
       "      <th>3</th>\n",
       "      <td>Why \"Good Model\" that performs great on holdou...</td>\n",
       "      <td>i have this binary regression model that has f...</td>\n",
       "      <td>['deep-learning', 'deep-neural-networks', 'pre...</td>\n",
       "      <td>No Answer</td>\n",
       "    </tr>\n",
       "    <tr>\n",
       "      <th>4</th>\n",
       "      <td>What are Reservoir computers used for today?</td>\n",
       "      <td>reservoir computers were very popular in the e...</td>\n",
       "      <td>['machine-learning', 'recurrent-neural-network...</td>\n",
       "      <td>No Answer</td>\n",
       "    </tr>\n",
       "  </tbody>\n",
       "</table>\n",
       "</div>"
      ],
      "text/plain": [
       "                                                Head  \\\n",
       "0                     Brain Segmentation To 3D Model   \n",
       "1      Active Learning regression with Random Forest   \n",
       "2            Comparing Reinforcement Learning models   \n",
       "3  Why \"Good Model\" that performs great on holdou...   \n",
       "4       What are Reservoir computers used for today?   \n",
       "\n",
       "                                                Body  \\\n",
       "0  my goal is to take a dataset of brain tumor se...   \n",
       "1  i have a dataset of about k points and i am tr...   \n",
       "2  i am currently completing my thesis on optimis...   \n",
       "3  i have this binary regression model that has f...   \n",
       "4  reservoir computers were very popular in the e...   \n",
       "\n",
       "                                                Tags First Answer  \n",
       "0                      ['computer-vision', 'python']    No Answer  \n",
       "1  ['machine-learning', 'regression', 'uncertaint...    No Answer  \n",
       "2  ['reinforcement-learning', 'policy-gradients',...    No Answer  \n",
       "3  ['deep-learning', 'deep-neural-networks', 'pre...    No Answer  \n",
       "4  ['machine-learning', 'recurrent-neural-network...    No Answer  "
      ]
     },
     "execution_count": 13,
     "metadata": {},
     "output_type": "execute_result"
    }
   ],
   "source": [
    "df.head()"
   ]
  },
  {
   "cell_type": "code",
   "execution_count": 19,
   "metadata": {},
   "outputs": [],
   "source": [
    "df['Tags Count'] = df['Tags'].apply(lambda x: len(literal_eval(x)))"
   ]
  },
  {
   "cell_type": "code",
   "execution_count": 22,
   "metadata": {},
   "outputs": [
    {
     "data": {
      "text/plain": [
       "Tags Count\n",
       "3     13643\n",
       "2     11133\n",
       "4     10461\n",
       "5      8640\n",
       "1      4933\n",
       "11        1\n",
       "Name: count, dtype: int64"
      ]
     },
     "execution_count": 22,
     "metadata": {},
     "output_type": "execute_result"
    }
   ],
   "source": [
    "df['Tags Count'].value_counts()"
   ]
  },
  {
   "cell_type": "code",
   "execution_count": 23,
   "metadata": {},
   "outputs": [],
   "source": [
    "df['Tags'] = df['Tags'].apply(lambda x: \" \".join(literal_eval(x)))"
   ]
  },
  {
   "cell_type": "code",
   "execution_count": 26,
   "metadata": {},
   "outputs": [],
   "source": [
    "df.to_csv('Data/cleaned_data_part2.csv', index=False)"
   ]
  },
  {
   "cell_type": "code",
   "execution_count": null,
   "metadata": {},
   "outputs": [],
   "source": []
  }
 ],
 "metadata": {
  "kernelspec": {
   "display_name": ".venv",
   "language": "python",
   "name": "python3"
  },
  "language_info": {
   "codemirror_mode": {
    "name": "ipython",
    "version": 3
   },
   "file_extension": ".py",
   "mimetype": "text/x-python",
   "name": "python",
   "nbconvert_exporter": "python",
   "pygments_lexer": "ipython3",
   "version": "3.10.11"
  },
  "orig_nbformat": 4
 },
 "nbformat": 4,
 "nbformat_minor": 2
}
