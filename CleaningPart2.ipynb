{
 "cells": [
  {
   "cell_type": "markdown",
   "metadata": {},
   "source": [
    "# Text Cleaning Notebook"
   ]
  },
  {
   "cell_type": "code",
   "execution_count": 1,
   "metadata": {},
   "outputs": [],
   "source": [
    "import pandas as pd\n",
    "import numpy as np\n",
    "import regex as re\n",
    "import warnings\n",
    "warnings.filterwarnings('ignore')"
   ]
  },
  {
   "cell_type": "code",
   "execution_count": 2,
   "metadata": {},
   "outputs": [],
   "source": [
    "df = pd.read_csv('Data/cleaned_data_part1.csv')"
   ]
  },
  {
   "cell_type": "code",
   "execution_count": 3,
   "metadata": {},
   "outputs": [
    {
     "data": {
      "text/html": [
       "<div>\n",
       "<style scoped>\n",
       "    .dataframe tbody tr th:only-of-type {\n",
       "        vertical-align: middle;\n",
       "    }\n",
       "\n",
       "    .dataframe tbody tr th {\n",
       "        vertical-align: top;\n",
       "    }\n",
       "\n",
       "    .dataframe thead th {\n",
       "        text-align: right;\n",
       "    }\n",
       "</style>\n",
       "<table border=\"1\" class=\"dataframe\">\n",
       "  <thead>\n",
       "    <tr style=\"text-align: right;\">\n",
       "      <th></th>\n",
       "      <th>Head</th>\n",
       "      <th>Body</th>\n",
       "      <th>Tags</th>\n",
       "      <th>First Answer</th>\n",
       "    </tr>\n",
       "  </thead>\n",
       "  <tbody>\n",
       "    <tr>\n",
       "      <th>1809</th>\n",
       "      <td>Which algorithm for hierarchical and ordered c...</td>\n",
       "      <td>\\r\\n\\r\\n\\r\\n\\r\\n\\r\\n\\r\\n\\r\\n\\r\\nClosed. This q...</td>\n",
       "      <td>['machine-learning', 'classification', 'multic...</td>\n",
       "      <td>No Answer</td>\n",
       "    </tr>\n",
       "    <tr>\n",
       "      <th>47205</th>\n",
       "      <td>National Incident-Based Reporting System (NIBR...</td>\n",
       "      <td>\\nI've read about the National Incident-Based ...</td>\n",
       "      <td>['data-request']</td>\n",
       "      <td>You can download the public-use version of the...</td>\n",
       "    </tr>\n",
       "    <tr>\n",
       "      <th>41975</th>\n",
       "      <td>Is there any similarity function to compare tw...</td>\n",
       "      <td>\\nI want to compare strings and give them scor...</td>\n",
       "      <td>['python', 'data-mining', 'text-mining', 'data...</td>\n",
       "      <td>You can try the Levenshtein Distance. From Wik...</td>\n",
       "    </tr>\n",
       "    <tr>\n",
       "      <th>33419</th>\n",
       "      <td>How to use a for loop in this Bernoulli exerci...</td>\n",
       "      <td>\\n\\n\\n\\n\\n\\n\\n\\nClosed. This question is off-t...</td>\n",
       "      <td>['r', 'distributions', 'econometrics', 'standa...</td>\n",
       "      <td>No Answer</td>\n",
       "    </tr>\n",
       "    <tr>\n",
       "      <th>11904</th>\n",
       "      <td>How to transform negative values to logarithms?</td>\n",
       "      <td>\\nI would like to know how to transform negati...</td>\n",
       "      <td>['r', 'data-transformation', 'logarithm']</td>\n",
       "      <td>No Answer</td>\n",
       "    </tr>\n",
       "  </tbody>\n",
       "</table>\n",
       "</div>"
      ],
      "text/plain": [
       "                                                    Head  \\\n",
       "1809   Which algorithm for hierarchical and ordered c...   \n",
       "47205  National Incident-Based Reporting System (NIBR...   \n",
       "41975  Is there any similarity function to compare tw...   \n",
       "33419  How to use a for loop in this Bernoulli exerci...   \n",
       "11904    How to transform negative values to logarithms?   \n",
       "\n",
       "                                                    Body  \\\n",
       "1809   \\r\\n\\r\\n\\r\\n\\r\\n\\r\\n\\r\\n\\r\\n\\r\\nClosed. This q...   \n",
       "47205  \\nI've read about the National Incident-Based ...   \n",
       "41975  \\nI want to compare strings and give them scor...   \n",
       "33419  \\n\\n\\n\\n\\n\\n\\n\\nClosed. This question is off-t...   \n",
       "11904  \\nI would like to know how to transform negati...   \n",
       "\n",
       "                                                    Tags  \\\n",
       "1809   ['machine-learning', 'classification', 'multic...   \n",
       "47205                                   ['data-request']   \n",
       "41975  ['python', 'data-mining', 'text-mining', 'data...   \n",
       "33419  ['r', 'distributions', 'econometrics', 'standa...   \n",
       "11904          ['r', 'data-transformation', 'logarithm']   \n",
       "\n",
       "                                            First Answer  \n",
       "1809                                           No Answer  \n",
       "47205  You can download the public-use version of the...  \n",
       "41975  You can try the Levenshtein Distance. From Wik...  \n",
       "33419                                          No Answer  \n",
       "11904                                          No Answer  "
      ]
     },
     "execution_count": 3,
     "metadata": {},
     "output_type": "execute_result"
    }
   ],
   "source": [
    "df.sample(5)"
   ]
  },
  {
   "cell_type": "code",
   "execution_count": 4,
   "metadata": {},
   "outputs": [
    {
     "data": {
      "text/plain": [
       "'Suppose a density function is\\n$$f_X(x)=\\\\left\\\\{\\\\begin{aligned}\\\\frac{1}{(1+x)^2} & \\\\quad x \\\\ge 0 \\\\\\\\ 0 & \\\\quad \\\\text{otherwise.}\\\\end{aligned}\\\\right.$$\\nI am trying to write an algorithm to generate a sample of size $n = 10^4$ from this distribution by using the inverse transform method. Why does my histogram not look \"nice\" like the one below?\\nn <- 10^4\\nu <- runif(n)\\nx <- (-u)/(u-1)\\n# histogram\\nhist(x, prob = TRUE, main = bquote(f(x)==1/((1+x)^2))) #density histogram of sample\\ny <- seq(0, 100, .01)\\nlines(y, 1/((1+y)^2))    #density curve f(x)\\n\\nOutput:\\n\\nNice histogram for another density:'"
      ]
     },
     "execution_count": 4,
     "metadata": {},
     "output_type": "execute_result"
    }
   ],
   "source": [
    "df.iloc[21152,:]['Body'].strip()"
   ]
  },
  {
   "cell_type": "code",
   "execution_count": 7,
   "metadata": {},
   "outputs": [],
   "source": [
    "def clean_text(text):\n",
    "    text = text.strip()\n",
    "    text = text.lower()\n",
    "    text = re.sub(r'[\\\\].', '', text)\n",
    "    text = re.sub(r'[^A-Za-z]', ' ', text)\n",
    "    text = re.sub(r'\\s+', ' ', text)\n",
    "    return text\n",
    "\n",
    "ct = clean_text(df.iloc[21152,:]['Body'])"
   ]
  },
  {
   "cell_type": "code",
   "execution_count": 8,
   "metadata": {},
   "outputs": [
    {
     "data": {
      "text/plain": [
       "'suppose a density function is f x x eftegin aligned rac x uad x e uad ext otherwise nd aligned ight i am trying to write an algorithm to generate a sample of size n from this distribution by using the inverse transform method why does my histogram not look nice like the one below n u runif n x u u histogram hist x prob true main bquote f x x density histogram of sample y seq lines y y density curve f x output nice histogram for another density '"
      ]
     },
     "execution_count": 8,
     "metadata": {},
     "output_type": "execute_result"
    }
   ],
   "source": [
    "ct"
   ]
  },
  {
   "cell_type": "code",
   "execution_count": null,
   "metadata": {},
   "outputs": [],
   "source": []
  }
 ],
 "metadata": {
  "kernelspec": {
   "display_name": ".venv",
   "language": "python",
   "name": "python3"
  },
  "language_info": {
   "codemirror_mode": {
    "name": "ipython",
    "version": 3
   },
   "file_extension": ".py",
   "mimetype": "text/x-python",
   "name": "python",
   "nbconvert_exporter": "python",
   "pygments_lexer": "ipython3",
   "version": "3.10.6"
  },
  "orig_nbformat": 4
 },
 "nbformat": 4,
 "nbformat_minor": 2
}
