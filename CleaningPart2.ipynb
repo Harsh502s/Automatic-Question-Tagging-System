{
 "cells": [
  {
   "cell_type": "markdown",
   "metadata": {},
   "source": [
    "# Text Cleaning Notebook"
   ]
  },
  {
   "cell_type": "code",
   "execution_count": 9,
   "metadata": {},
   "outputs": [],
   "source": [
    "import pandas as pd\n",
    "import numpy as np\n",
    "import regex as re\n",
    "import warnings\n",
    "warnings.filterwarnings('ignore')"
   ]
  },
  {
   "cell_type": "code",
   "execution_count": 10,
   "metadata": {},
   "outputs": [],
   "source": [
    "df = pd.read_csv('Data/cleaned_data_part1.csv')"
   ]
  },
  {
   "cell_type": "code",
   "execution_count": 11,
   "metadata": {},
   "outputs": [
    {
     "data": {
      "text/html": [
       "<div>\n",
       "<style scoped>\n",
       "    .dataframe tbody tr th:only-of-type {\n",
       "        vertical-align: middle;\n",
       "    }\n",
       "\n",
       "    .dataframe tbody tr th {\n",
       "        vertical-align: top;\n",
       "    }\n",
       "\n",
       "    .dataframe thead th {\n",
       "        text-align: right;\n",
       "    }\n",
       "</style>\n",
       "<table border=\"1\" class=\"dataframe\">\n",
       "  <thead>\n",
       "    <tr style=\"text-align: right;\">\n",
       "      <th></th>\n",
       "      <th>Head</th>\n",
       "      <th>Body</th>\n",
       "      <th>Tags</th>\n",
       "      <th>First Answer</th>\n",
       "    </tr>\n",
       "  </thead>\n",
       "  <tbody>\n",
       "    <tr>\n",
       "      <th>46791</th>\n",
       "      <td>How to find the amount of Mylan revenue genera...</td>\n",
       "      <td>\\nI'm writing an article on the antitrust inve...</td>\n",
       "      <td>['finance', 'drugs']</td>\n",
       "      <td>No Answer</td>\n",
       "    </tr>\n",
       "    <tr>\n",
       "      <th>369</th>\n",
       "      <td>Is there an unsupervised learning method for d...</td>\n",
       "      <td>\\r\\nI have a dataset consisting of questions f...</td>\n",
       "      <td>['natural-language-processing', 'unsupervised-...</td>\n",
       "      <td>No Answer</td>\n",
       "    </tr>\n",
       "    <tr>\n",
       "      <th>21445</th>\n",
       "      <td>Calculating the expected value of truncated no...</td>\n",
       "      <td>\\nUsing the mills ratio result, let $X \\sim N(...</td>\n",
       "      <td>['r', 'normal-distribution', 'conditional-expe...</td>\n",
       "      <td>Your formula implementation is wrong because, ...</td>\n",
       "    </tr>\n",
       "    <tr>\n",
       "      <th>41489</th>\n",
       "      <td>Why the my Tensorflow code just use one GPU wh...</td>\n",
       "      <td>\\nI am trying to run my code on a supercompute...</td>\n",
       "      <td>['tensorflow', 'gpu']</td>\n",
       "      <td>No Answer</td>\n",
       "    </tr>\n",
       "    <tr>\n",
       "      <th>9868</th>\n",
       "      <td>what does the numbers in the classification re...</td>\n",
       "      <td>\\nI have below an example I pulled from sklear...</td>\n",
       "      <td>['machine-learning', 'python', 'scikit-learn',...</td>\n",
       "      <td>The f1-score gives you the harmonic mean of pr...</td>\n",
       "    </tr>\n",
       "  </tbody>\n",
       "</table>\n",
       "</div>"
      ],
      "text/plain": [
       "                                                    Head  \\\n",
       "46791  How to find the amount of Mylan revenue genera...   \n",
       "369    Is there an unsupervised learning method for d...   \n",
       "21445  Calculating the expected value of truncated no...   \n",
       "41489  Why the my Tensorflow code just use one GPU wh...   \n",
       "9868   what does the numbers in the classification re...   \n",
       "\n",
       "                                                    Body  \\\n",
       "46791  \\nI'm writing an article on the antitrust inve...   \n",
       "369    \\r\\nI have a dataset consisting of questions f...   \n",
       "21445  \\nUsing the mills ratio result, let $X \\sim N(...   \n",
       "41489  \\nI am trying to run my code on a supercompute...   \n",
       "9868   \\nI have below an example I pulled from sklear...   \n",
       "\n",
       "                                                    Tags  \\\n",
       "46791                               ['finance', 'drugs']   \n",
       "369    ['natural-language-processing', 'unsupervised-...   \n",
       "21445  ['r', 'normal-distribution', 'conditional-expe...   \n",
       "41489                              ['tensorflow', 'gpu']   \n",
       "9868   ['machine-learning', 'python', 'scikit-learn',...   \n",
       "\n",
       "                                            First Answer  \n",
       "46791                                          No Answer  \n",
       "369                                            No Answer  \n",
       "21445  Your formula implementation is wrong because, ...  \n",
       "41489                                          No Answer  \n",
       "9868   The f1-score gives you the harmonic mean of pr...  "
      ]
     },
     "execution_count": 11,
     "metadata": {},
     "output_type": "execute_result"
    }
   ],
   "source": [
    "df.sample(5)"
   ]
  },
  {
   "cell_type": "code",
   "execution_count": 19,
   "metadata": {},
   "outputs": [
    {
     "data": {
      "text/plain": [
       "'Suppose a density function is\\n$$f_X(x)=\\\\left\\\\{\\\\begin{aligned}\\\\frac{1}{(1+x)^2} & \\\\quad x \\\\ge 0 \\\\\\\\ 0 & \\\\quad \\\\text{otherwise.}\\\\end{aligned}\\\\right.$$\\nI am trying to write an algorithm to generate a sample of size $n = 10^4$ from this distribution by using the inverse transform method. Why does my histogram not look \"nice\" like the one below?\\nn <- 10^4\\nu <- runif(n)\\nx <- (-u)/(u-1)\\n# histogram\\nhist(x, prob = TRUE, main = bquote(f(x)==1/((1+x)^2))) #density histogram of sample\\ny <- seq(0, 100, .01)\\nlines(y, 1/((1+y)^2))    #density curve f(x)\\n\\nOutput:\\n\\nNice histogram for another density:'"
      ]
     },
     "execution_count": 19,
     "metadata": {},
     "output_type": "execute_result"
    }
   ],
   "source": [
    "df.iloc[21152,:]['Body'].strip()"
   ]
  },
  {
   "cell_type": "code",
   "execution_count": 24,
   "metadata": {},
   "outputs": [],
   "source": [
    "def clean_text(text):\n",
    "    text = text.strip()\n",
    "    text = text.lower()\n",
    "    text = re.sub(r'[\\\\].', '', text)\n",
    "    text = re.sub(r'[^A-Za-z0-9%.]', ' ', text)\n",
    "    text = re.sub(r'\\s+', ' ', text)\n",
    "    return text\n",
    "\n",
    "ct = clean_text(df.iloc[21152,:]['Body'])"
   ]
  },
  {
   "cell_type": "code",
   "execution_count": 27,
   "metadata": {},
   "outputs": [
    {
     "data": {
      "text/plain": [
       "\"['r', 'simulation', 'histogram']\""
      ]
     },
     "execution_count": 27,
     "metadata": {},
     "output_type": "execute_result"
    }
   ],
   "source": [
    "df.iloc[21152,:]['Tags']"
   ]
  },
  {
   "cell_type": "code",
   "execution_count": null,
   "metadata": {},
   "outputs": [],
   "source": []
  }
 ],
 "metadata": {
  "kernelspec": {
   "display_name": ".venv",
   "language": "python",
   "name": "python3"
  },
  "language_info": {
   "codemirror_mode": {
    "name": "ipython",
    "version": 3
   },
   "file_extension": ".py",
   "mimetype": "text/x-python",
   "name": "python",
   "nbconvert_exporter": "python",
   "pygments_lexer": "ipython3",
   "version": "3.10.6"
  },
  "orig_nbformat": 4
 },
 "nbformat": 4,
 "nbformat_minor": 2
}
