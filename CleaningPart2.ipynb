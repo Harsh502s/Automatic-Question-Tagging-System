{
 "cells": [
  {
   "cell_type": "markdown",
   "metadata": {},
   "source": [
    "# Text Cleaning Notebook"
   ]
  },
  {
   "cell_type": "code",
   "execution_count": 1,
   "metadata": {},
   "outputs": [],
   "source": [
    "import pandas as pd\n",
    "import numpy as np\n",
    "import regex as re\n",
    "import warnings\n",
    "warnings.filterwarnings('ignore')"
   ]
  },
  {
   "cell_type": "code",
   "execution_count": 2,
   "metadata": {},
   "outputs": [],
   "source": [
    "df = pd.read_csv('Data/cleaned_data_part1.csv')"
   ]
  },
  {
   "cell_type": "code",
   "execution_count": 3,
   "metadata": {},
   "outputs": [
    {
     "data": {
      "text/html": [
       "<div>\n",
       "<style scoped>\n",
       "    .dataframe tbody tr th:only-of-type {\n",
       "        vertical-align: middle;\n",
       "    }\n",
       "\n",
       "    .dataframe tbody tr th {\n",
       "        vertical-align: top;\n",
       "    }\n",
       "\n",
       "    .dataframe thead th {\n",
       "        text-align: right;\n",
       "    }\n",
       "</style>\n",
       "<table border=\"1\" class=\"dataframe\">\n",
       "  <thead>\n",
       "    <tr style=\"text-align: right;\">\n",
       "      <th></th>\n",
       "      <th>Head</th>\n",
       "      <th>Body</th>\n",
       "      <th>Tags</th>\n",
       "      <th>First Answer</th>\n",
       "    </tr>\n",
       "  </thead>\n",
       "  <tbody>\n",
       "    <tr>\n",
       "      <th>5759</th>\n",
       "      <td>How to update edge features in a graph using a...</td>\n",
       "      <td>\\r\\nGiven a directed, edge attributed graph G,...</td>\n",
       "      <td>['neural-networks', 'classification', 'objecti...</td>\n",
       "      <td>No Answer</td>\n",
       "    </tr>\n",
       "    <tr>\n",
       "      <th>31352</th>\n",
       "      <td>Different estimates for over dispersion using ...</td>\n",
       "      <td>\\nI have a question about what is the best way...</td>\n",
       "      <td>['generalized-linear-model', 'chi-squared-test...</td>\n",
       "      <td>No Answer</td>\n",
       "    </tr>\n",
       "    <tr>\n",
       "      <th>21235</th>\n",
       "      <td>What is the benefit of regression with student...</td>\n",
       "      <td>\\n\\n\\n\\n\\n\\n\\n\\nThis question already has answ...</td>\n",
       "      <td>['regression', 't-distribution', 'misspecifica...</td>\n",
       "      <td>No Answer</td>\n",
       "    </tr>\n",
       "    <tr>\n",
       "      <th>3052</th>\n",
       "      <td>What would happen if we set the evaluation fun...</td>\n",
       "      <td>\\r\\nI am reading Artificial Intelligence: A Mo...</td>\n",
       "      <td>['search', 'breadth-first-search', 'evaluation...</td>\n",
       "      <td>No Answer</td>\n",
       "    </tr>\n",
       "    <tr>\n",
       "      <th>48672</th>\n",
       "      <td>Phonemic &amp; Syllabic N-Gram Distributions of th...</td>\n",
       "      <td>\\nI am interested in doing some typological an...</td>\n",
       "      <td>['data-request', 'language']</td>\n",
       "      <td>No Answer</td>\n",
       "    </tr>\n",
       "  </tbody>\n",
       "</table>\n",
       "</div>"
      ],
      "text/plain": [
       "                                                    Head  \\\n",
       "5759   How to update edge features in a graph using a...   \n",
       "31352  Different estimates for over dispersion using ...   \n",
       "21235  What is the benefit of regression with student...   \n",
       "3052   What would happen if we set the evaluation fun...   \n",
       "48672  Phonemic & Syllabic N-Gram Distributions of th...   \n",
       "\n",
       "                                                    Body  \\\n",
       "5759   \\r\\nGiven a directed, edge attributed graph G,...   \n",
       "31352  \\nI have a question about what is the best way...   \n",
       "21235  \\n\\n\\n\\n\\n\\n\\n\\nThis question already has answ...   \n",
       "3052   \\r\\nI am reading Artificial Intelligence: A Mo...   \n",
       "48672  \\nI am interested in doing some typological an...   \n",
       "\n",
       "                                                    Tags First Answer  \n",
       "5759   ['neural-networks', 'classification', 'objecti...    No Answer  \n",
       "31352  ['generalized-linear-model', 'chi-squared-test...    No Answer  \n",
       "21235  ['regression', 't-distribution', 'misspecifica...    No Answer  \n",
       "3052   ['search', 'breadth-first-search', 'evaluation...    No Answer  \n",
       "48672                       ['data-request', 'language']    No Answer  "
      ]
     },
     "execution_count": 3,
     "metadata": {},
     "output_type": "execute_result"
    }
   ],
   "source": [
    "df.sample(5)"
   ]
  }
 ],
 "metadata": {
  "kernelspec": {
   "display_name": ".venv",
   "language": "python",
   "name": "python3"
  },
  "language_info": {
   "codemirror_mode": {
    "name": "ipython",
    "version": 3
   },
   "file_extension": ".py",
   "mimetype": "text/x-python",
   "name": "python",
   "nbconvert_exporter": "python",
   "pygments_lexer": "ipython3",
   "version": "3.10.6"
  },
  "orig_nbformat": 4
 },
 "nbformat": 4,
 "nbformat_minor": 2
}
