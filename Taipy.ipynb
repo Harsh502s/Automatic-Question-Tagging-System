{
 "cells": [
  {
   "cell_type": "code",
   "execution_count": null,
   "metadata": {},
   "outputs": [],
   "source": [
    "from taipy import Gui\n",
    "\n",
    "excitement_page = \"\"\"\n",
    "# Welcome to Taipy\n",
    "## Getting started with Taipy GUI\n",
    "### How excited are you to try Taipy?\n",
    "\n",
    "<|{excitement}|slider|min=1|max=100|>\n",
    "\n",
    "My excitement level: <|{excitement}|text|>\n",
    "\"\"\"\n",
    "excitement = 10\n",
    "\n",
    "Gui(page=excitement_page).run()"
   ]
  },
  {
   "cell_type": "code",
   "execution_count": null,
   "metadata": {},
   "outputs": [],
   "source": []
  }
 ],
 "metadata": {
  "kernelspec": {
   "display_name": ".venv",
   "language": "python",
   "name": "python3"
  },
  "language_info": {
   "codemirror_mode": {
    "name": "ipython",
    "version": 3
   },
   "file_extension": ".py",
   "mimetype": "text/x-python",
   "name": "python",
   "nbconvert_exporter": "python",
   "pygments_lexer": "ipython3",
   "version": "3.10.6"
  },
  "orig_nbformat": 4
 },
 "nbformat": 4,
 "nbformat_minor": 2
}
